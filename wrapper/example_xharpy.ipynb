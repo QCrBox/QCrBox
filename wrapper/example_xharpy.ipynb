{
 "cells": [
  {
   "cell_type": "code",
   "execution_count": null,
   "metadata": {},
   "outputs": [],
   "source": [
    "from qcrbox_wrapper import *"
   ]
  },
  {
   "cell_type": "code",
   "execution_count": null,
   "metadata": {},
   "outputs": [],
   "source": [
    "qcrbox = QCrBoxWrapper('localhost', 11000)"
   ]
  },
  {
   "cell_type": "code",
   "execution_count": null,
   "metadata": {},
   "outputs": [],
   "source": [
    "qcrbox.application_dict"
   ]
  },
  {
   "cell_type": "code",
   "execution_count": null,
   "metadata": {},
   "outputs": [],
   "source": [
    "xharpy = qcrbox.application_dict['XHARPy-GPAW']"
   ]
  },
  {
   "cell_type": "code",
   "execution_count": null,
   "metadata": {},
   "outputs": [],
   "source": [
    "help(xharpy)"
   ]
  },
  {
   "cell_type": "code",
   "execution_count": null,
   "metadata": {},
   "outputs": [],
   "source": [
    "calc = xharpy.atom_form_fact_gpaw(\n",
    "    input_cif_path='/mnt/qcrbox/shared_files/test_xharpy_tsc/input_epox.cif',\n",
    "    output_tsc_path='/mnt/qcrbox/shared_files/test_xharpy_tsc/epoxide.tsc',\n",
    "    functional='LDA',\n",
    "    gridspacing=0.24\n",
    ")"
   ]
  },
  {
   "cell_type": "code",
   "execution_count": null,
   "metadata": {},
   "outputs": [],
   "source": [
    "calc.wait_while_running(1.0)"
   ]
  },
  {
   "cell_type": "code",
   "execution_count": null,
   "metadata": {},
   "outputs": [],
   "source": [
    "calc2 = xharpy.ha_refine(\n",
    "    input_cif_path='/mnt/qcrbox/shared_files/test_xharpy_refine/input_epox.cif',\n",
    "    output_cif_path='/mnt/qcrbox/shared_files/test_xharpy_refine/epoxide_out.cif',\n",
    "    functional='PBE',\n",
    "    gridspacing=0.20\n",
    ")\n",
    "print(calc2.status)\n",
    "calc2.wait_while_running(1.0)\n",
    "print(calc2.status)"
   ]
  },
  {
   "cell_type": "code",
   "execution_count": null,
   "metadata": {},
   "outputs": [],
   "source": []
  }
 ],
 "metadata": {
  "kernelspec": {
   "display_name": "Python 3",
   "language": "python",
   "name": "python3"
  },
  "language_info": {
   "codemirror_mode": {
    "name": "ipython",
    "version": 3
   },
   "file_extension": ".py",
   "mimetype": "text/x-python",
   "name": "python",
   "nbconvert_exporter": "python",
   "pygments_lexer": "ipython3",
   "version": "3.11.7"
  },
  "orig_nbformat": 4
 },
 "nbformat": 4,
 "nbformat_minor": 2
}
