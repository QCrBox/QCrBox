{
 "cells": [
  {
   "cell_type": "code",
   "execution_count": 1,
   "metadata": {},
   "outputs": [],
   "source": [
    "from qcrbox_wrapper import *"
   ]
  },
  {
   "cell_type": "code",
   "execution_count": 2,
   "metadata": {},
   "outputs": [],
   "source": [
    "qcrbox = QCrBoxWrapper('localhost', 11000)"
   ]
  },
  {
   "cell_type": "code",
   "execution_count": 3,
   "metadata": {},
   "outputs": [
    {
     "data": {
      "text/plain": [
       "{'XHARPy-GPAW': XHARPy-GPAW()}"
      ]
     },
     "execution_count": 3,
     "metadata": {},
     "output_type": "execute_result"
    }
   ],
   "source": [
    "qcrbox.application_dict"
   ]
  },
  {
   "cell_type": "code",
   "execution_count": 4,
   "metadata": {},
   "outputs": [],
   "source": [
    "xharpy = qcrbox.application_dict['XHARPy-GPAW']"
   ]
  },
  {
   "cell_type": "code",
   "execution_count": 5,
   "metadata": {},
   "outputs": [
    {
     "name": "stdout",
     "output_type": "stream",
     "text": [
      "Help on QCrBoxApplication in module qcrbox_wrapper:\n",
      "\n",
      "XHARPy-GPAW()\n",
      "    Represents the XHARPy-GPAW application (v. 0.2.0) in QCrBox\n",
      "    \n",
      "    Methods:\n",
      "        atom_form_fact_gpaw(\n",
      "            input_cif_path: str,\n",
      "            output_tsc_path: str,\n",
      "            functional: str,\n",
      "            gridspacing: str\n",
      "        )\n",
      "    \n",
      "        ha_refine(\n",
      "            input_cif_path: str,\n",
      "            output_cif_path: str,\n",
      "            functional: str,\n",
      "            gridspacing: str\n",
      "        )\n",
      "\n"
     ]
    }
   ],
   "source": [
    "help(xharpy)"
   ]
  },
  {
   "cell_type": "code",
   "execution_count": 6,
   "metadata": {},
   "outputs": [],
   "source": [
    "calc = xharpy.atom_form_fact_gpaw(\n",
    "    input_cif_path='/mnt/qcrbox/shared_files/test_xharpy_tsc/input_epox.cif',\n",
    "    output_tsc_path='/mnt/qcrbox/shared_files/test_xharpy_tsc/epoxide.tsc',\n",
    "    functional='LDA',\n",
    "    gridspacing=0.24\n",
    ")"
   ]
  },
  {
   "cell_type": "code",
   "execution_count": 7,
   "metadata": {},
   "outputs": [],
   "source": [
    "calc.wait_while_running(1.0)"
   ]
  },
  {
   "cell_type": "code",
   "execution_count": 8,
   "metadata": {},
   "outputs": [
    {
     "name": "stdout",
     "output_type": "stream",
     "text": [
      "QCrBoxCalculationStatus(calculation_id=2, command_id=2, started_at='2024-02-26T14:36:23.050190', status='unknown', status_details={'status': 'unknown', 'details': {'msg': \"An error occurred when trying to determine the status of the future: '_diffrn_refln.index_h'\"}})\n",
      "QCrBoxCalculationStatus(calculation_id=2, command_id=2, started_at='2024-02-26T14:36:23.050190', status='unknown', status_details={'status': 'unknown', 'details': {'msg': \"An error occurred when trying to determine the status of the future: '_diffrn_refln.index_h'\"}})\n"
     ]
    }
   ],
   "source": [
    "calc2 = xharpy.ha_refine(\n",
    "    input_cif_path='/mnt/qcrbox/shared_files/test_xharpy_refine/input_epox.cif',\n",
    "    output_cif_path='/mnt/qcrbox/shared_files/test_xharpy_refine/epoxide_out.cif',\n",
    "    functional='PBE',\n",
    "    gridspacing=0.20\n",
    ")\n",
    "print(calc2.status)\n",
    "calc2.wait_while_running(1.0)\n",
    "print(calc2.status)"
   ]
  },
  {
   "cell_type": "code",
   "execution_count": null,
   "metadata": {},
   "outputs": [],
   "source": []
  }
 ],
 "metadata": {
  "kernelspec": {
   "display_name": "Python 3",
   "language": "python",
   "name": "python3"
  },
  "language_info": {
   "codemirror_mode": {
    "name": "ipython",
    "version": 3
   },
   "file_extension": ".py",
   "mimetype": "text/x-python",
   "name": "python",
   "nbconvert_exporter": "python",
   "pygments_lexer": "ipython3",
   "version": "3.11.7"
  },
  "orig_nbformat": 4
 },
 "nbformat": 4,
 "nbformat_minor": 2
}
