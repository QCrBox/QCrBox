{
 "cells": [
  {
   "cell_type": "code",
   "execution_count": null,
   "metadata": {},
   "outputs": [],
   "source": [
    "import shutil\n",
    "import json\n",
    "import pathlib\n",
    "from qcrbox_wrapper import *"
   ]
  },
  {
   "cell_type": "code",
   "execution_count": null,
   "metadata": {},
   "outputs": [],
   "source": [
    "port_dict = {'Eval1X': 12005}\n",
    "gui_commands = [('Eval1X', 'interactive')]\n",
    "qcrbox = QCrBoxWrapper('localhost', 11000, port_dict, gui_commands)"
   ]
  },
  {
   "cell_type": "code",
   "execution_count": null,
   "metadata": {},
   "outputs": [],
   "source": [
    "qcrbox.application_dict"
   ]
  },
  {
   "cell_type": "code",
   "execution_count": null,
   "metadata": {},
   "outputs": [],
   "source": [
    "pathhelper = QCrBoxPathHelper(\n",
    "    local_path='D:/QCrBox/QCrBox/shared_files',\n",
    "    base_dir='work_eval'\n",
    ")\n",
    "\n",
    "path_local = pathhelper.local_path\n",
    "path_container = pathhelper.qcrbox_path\n",
    "\n",
    "source_dir = pathlib.Path('D:/QCrBox/QCrBox/shared_files/Ylid_OD_Images')\n",
    "path_local.mkdir(exist_ok=True)\n",
    "\n",
    "frame_ending = '.oxf'\n",
    "for filename in source_dir.glob(f'*{frame_ending}'):\n",
    "    shutil.copy(filename, path_local / filename.relative_to(source_dir))"
   ]
  },
  {
   "cell_type": "code",
   "execution_count": null,
   "metadata": {},
   "outputs": [],
   "source": [
    "eval1x = qcrbox.application_dict['Eval1X']\n",
    "eval1x.interactive(path_container)\n"
   ]
  },
  {
   "cell_type": "code",
   "execution_count": null,
   "metadata": {},
   "outputs": [],
   "source": [
    "help(eval1x)"
   ]
  },
  {
   "cell_type": "code",
   "execution_count": null,
   "metadata": {},
   "outputs": [],
   "source": [
    "calc = eval1x.integrate(\n",
    "    work_folder=path_container,\n",
    "    rmat_file_path='/mnt/qcrbox/shared_files/Ylid2/ic.rmat',\n",
    "    beamstop_file_path='/mnt/qcrbox/shared_files/Ylid2/beamstop.vic',\n",
    "    detalign_file_path='/mnt/qcrbox/shared_files/Ylid2/detalign.vic',\n",
    "    maximum_res=0.79,\n",
    "    minimum_res=50.0,\n",
    "    box_size=1.2,\n",
    "    box_depth=5,\n",
    "    maximum_duration=5.0,\n",
    "    min_refln_in_box=1000,\n",
    "    pic_dir='/mnt/qcrbox/shared_files/Ylid2/ic'\n",
    ")"
   ]
  },
  {
   "cell_type": "code",
   "execution_count": null,
   "metadata": {},
   "outputs": [],
   "source": [
    "calc.wait_while_running(1.0)"
   ]
  },
  {
   "cell_type": "code",
   "execution_count": null,
   "metadata": {},
   "outputs": [],
   "source": [
    "\n",
    "calc = eval1x.toparams__interactive(\n",
    "    work_folder='/mnt/qcrbox/shared_files/Ylid_OD_Images',\n",
    "    par_json='/mnt/qcrbox/shared_files/eval1x_pars/parameters.json',\n",
    "    par_folder='/mnt/qcrbox/shared_files/eval1x_pars'\n",
    ")"
   ]
  },
  {
   "cell_type": "code",
   "execution_count": null,
   "metadata": {},
   "outputs": [],
   "source": [
    "calc.wait_while_running(1.0)"
   ]
  },
  {
   "cell_type": "code",
   "execution_count": null,
   "metadata": {},
   "outputs": [],
   "source": [
    "redo_pathhelper = QCrBoxPathHelper(\n",
    "    local_path='D:/QCrBox/QCrBox/shared_files',\n",
    "    base_dir='redo_eval'\n",
    ")\n",
    "\n",
    "redo_path_local = redo_pathhelper.local_path\n",
    "redo_path_container = redo_pathhelper.qcrbox_path\n",
    "\n",
    "source_dir = pathlib.Path('D:/QCrBox/QCrBox/shared_files/Ylid_OD_Images')\n",
    "redo_path_local.mkdir(exist_ok=True)\n",
    "\n",
    "frame_ending = '.oxf'\n",
    "for filename in source_dir.glob(f'*{frame_ending}'):\n",
    "    shutil.copy(filename, redo_path_local / filename.relative_to(source_dir))"
   ]
  },
  {
   "cell_type": "code",
   "execution_count": null,
   "metadata": {},
   "outputs": [],
   "source": [
    "\n",
    "calc = eval1x.redo__interactive(\n",
    "    work_folder=redo_path_container,\n",
    "    par_json='/mnt/qcrbox/shared_files/eval1x_pars/parameters.json',\n",
    "    par_folder='/mnt/qcrbox/shared_files/eval1x_pars'\n",
    ")"
   ]
  },
  {
   "cell_type": "code",
   "execution_count": null,
   "metadata": {},
   "outputs": [],
   "source": [
    "calc"
   ]
  },
  {
   "cell_type": "code",
   "execution_count": null,
   "metadata": {},
   "outputs": [],
   "source": []
  }
 ],
 "metadata": {
  "kernelspec": {
   "display_name": "venv",
   "language": "python",
   "name": "python3"
  },
  "language_info": {
   "codemirror_mode": {
    "name": "ipython",
    "version": 3
   },
   "file_extension": ".py",
   "mimetype": "text/x-python",
   "name": "python",
   "nbconvert_exporter": "python",
   "pygments_lexer": "ipython3",
   "version": "3.11.7"
  }
 },
 "nbformat": 4,
 "nbformat_minor": 2
}
