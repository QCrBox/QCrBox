{
 "cells": [
  {
   "cell_type": "markdown",
   "metadata": {},
   "source": [
    "# Run Crystal Explorer from QCrBox\n",
    "\n",
    "Using the dotenv package makes things more convenient as we can read the environment variables from the .env.dev file in the QCrBox directory. If you want to run with python core packages only comment out the load_dotenv lines and insert the local and qcrbox pathes manually into the pathhelper from the .env.dev file."
   ]
  },
  {
   "cell_type": "code",
   "execution_count": 1,
   "metadata": {},
   "outputs": [],
   "source": [
    "import os\n",
    "import shutil\n",
    "\n",
    "from dotenv import load_dotenv\n",
    "\n",
    "from qcrbox_wrapper import QCrBoxWrapper, QCrBoxPathHelper\n",
    "\n",
    "\n",
    "if not load_dotenv('../.env.dev'):\n",
    "    raise FileNotFoundError(\n",
    "        \".dot.env file could not be loaded. Either adapt the path to your filesystem or \"\n",
    "        + \"input the information loaded from os.environ manually\"\n",
    "    )"
   ]
  },
  {
   "cell_type": "markdown",
   "metadata": {},
   "source": [
    "We create a path to run our Crystal Explorer example and get our paths from our own computer's filesystem and the internal filesystem of the QCrBox containers."
   ]
  },
  {
   "cell_type": "code",
   "execution_count": 2,
   "metadata": {},
   "outputs": [],
   "source": [
    "pathhelper = QCrBoxPathHelper(\n",
    "    os.environ['QCRBOX_SHARED_FILES_DIR_HOST_PATH'],\n",
    "    os.environ['QCRBOX_SHARED_FILES_DIR_CONTAINER_PATH'],\n",
    "    'examples_crystal_explorer'\n",
    ")\n",
    "\n",
    "path_local = pathhelper.local_path\n",
    "path_qcrbox = pathhelper.qcrbox_path"
   ]
  },
  {
   "cell_type": "markdown",
   "metadata": {},
   "source": [
    "## Connecting to QCrBox\n",
    "\n",
    "We can connect to the QCrBox Inventory via python after we have started everything with `qcb up`. Sometimes the server takes a while so you might need to retry if it initially refuses connection. This should not take more than 30 seconds after your console output says that everything has started."
   ]
  },
  {
   "cell_type": "code",
   "execution_count": 3,
   "metadata": {},
   "outputs": [],
   "source": [
    "gui_infos = {\n",
    "    'CrystalExplorer': {'port': os.environ['QCRBOX_CRYSTAL_EXPLORER_PORT'], 'commands': ['interactive']}\n",
    "}\n",
    "\n",
    "qcrbox = QCrBoxWrapper('127.0.0.1', 11000, gui_infos)"
   ]
  },
  {
   "cell_type": "markdown",
   "metadata": {},
   "source": [
    "We should see `Crystalexplorer in our application_dict and should put it into a variable."
   ]
  },
  {
   "cell_type": "code",
   "execution_count": 4,
   "metadata": {},
   "outputs": [
    {
     "data": {
      "text/plain": [
       "{'CrystalExplorer': CrystalExplorer()}"
      ]
     },
     "execution_count": 4,
     "metadata": {},
     "output_type": "execute_result"
    }
   ],
   "source": [
    "qcrbox.application_dict\n"
   ]
  },
  {
   "cell_type": "code",
   "execution_count": 5,
   "metadata": {},
   "outputs": [],
   "source": [
    "crystal_explorer = qcrbox.application_dict['CrystalExplorer']\n"
   ]
  },
  {
   "cell_type": "markdown",
   "metadata": {},
   "source": [
    "## Running the Crystal Explorer GUI in QCrBox\n",
    "\n",
    "We can now access the GUI of Crystal Explorer within the container. To run the command needs a unified cif, which is then internally converted into the format CrystalExplorer needs. For more read the Olex2 Example Notebook (TODO Write and link a more complete explanation in docs). \n",
    "\n",
    "Once we run the `interactive` command, two things happen: Firstly, a new browser window with the GUI opens up. Secondly, you should see an input prompt in your execution engine for this notebook. (In Jupyter this should be at the end of the cell, in VSCode it is at the top). By pressing enter within this prompt we tell QCrBox that we are done. There is no back conversion, as we do not expect Crystal Explorer to modify the cif file. Note that this input prompt is a stopgap for an actual UI, so this feels a bit clunky at the moment."
   ]
  },
  {
   "cell_type": "code",
   "execution_count": 6,
   "metadata": {},
   "outputs": [
    {
     "data": {
      "text/plain": [
       "QCrBoxCalculationStatus(calculation_id=2, command_id=1, started_at='2024-03-01T11:39:26.374470', status='running', status_details={'status': 'running', 'details': {'returncode': None}})"
      ]
     },
     "execution_count": 6,
     "metadata": {},
     "output_type": "execute_result"
    }
   ],
   "source": [
    "shutil.copy('./input_files/input.cif', path_local / 'input.cif')\n",
    "\n",
    "calc = crystal_explorer.interactive(\n",
    "    input_cif_path=path_qcrbox / 'input.cif'\n",
    ")\n",
    "calc.status"
   ]
  },
  {
   "cell_type": "code",
   "execution_count": null,
   "metadata": {},
   "outputs": [],
   "source": []
  }
 ],
 "metadata": {
  "kernelspec": {
   "display_name": "venv",
   "language": "python",
   "name": "python3"
  },
  "language_info": {
   "codemirror_mode": {
    "name": "ipython",
    "version": 3
   },
   "file_extension": ".py",
   "mimetype": "text/x-python",
   "name": "python",
   "nbconvert_exporter": "python",
   "pygments_lexer": "ipython3",
   "version": "3.11.7"
  }
 },
 "nbformat": 4,
 "nbformat_minor": 2
}
