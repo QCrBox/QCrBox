{
 "cells": [
  {
   "cell_type": "code",
   "execution_count": null,
   "metadata": {},
   "outputs": [],
   "source": [
    "from qcrbox_wrapper import *\n",
    "\n",
    "port_dict = {'Olex2 (Linux)': 12004}\n",
    "gui_commands = [('Olex2 (Linux)', 'interactive')]"
   ]
  },
  {
   "cell_type": "code",
   "execution_count": null,
   "metadata": {},
   "outputs": [],
   "source": [
    "qcrbox = QCrBoxWrapper('localhost', 11000, port_dict, gui_commands)"
   ]
  },
  {
   "cell_type": "code",
   "execution_count": null,
   "metadata": {},
   "outputs": [],
   "source": [
    "qcrbox.application_dict"
   ]
  },
  {
   "cell_type": "code",
   "execution_count": null,
   "metadata": {},
   "outputs": [],
   "source": [
    "olex2 = qcrbox.application_dict['Olex2 (Linux)']"
   ]
  },
  {
   "cell_type": "code",
   "execution_count": null,
   "metadata": {},
   "outputs": [],
   "source": [
    "help(olex2)"
   ]
  },
  {
   "cell_type": "code",
   "execution_count": null,
   "metadata": {},
   "outputs": [],
   "source": [
    "calc = olex2.interactive(\n",
    "    cif_path='/mnt/qcrbox/shared_files/work_olex2/work.cif'\n",
    ")\n",
    "calc.status"
   ]
  },
  {
   "cell_type": "code",
   "execution_count": null,
   "metadata": {},
   "outputs": [],
   "source": [
    "calc = olex2.refine_iam(\n",
    "    cif_path='/mnt/qcrbox/shared_files/work_olex2/work.cif',\n",
    "    ls_cycles='20',\n",
    "    weight_cycles='5'\n",
    ")\n",
    "\n",
    "calc.wait_while_running(1.0)"
   ]
  },
  {
   "cell_type": "code",
   "execution_count": null,
   "metadata": {},
   "outputs": [],
   "source": [
    "calc.status"
   ]
  },
  {
   "cell_type": "code",
   "execution_count": null,
   "metadata": {},
   "outputs": [],
   "source": [
    "calc = olex2.refine_tsc(\n",
    "    cif_path='/mnt/qcrbox/shared_files/work_olex2/work.cif',\n",
    "    tsc_path='/mnt/qcrbox/shared_files/work_olex2/epoxide.tsc',\n",
    "    ls_cycles=20,\n",
    "    weight_cycles=5\n",
    ")\n",
    "\n",
    "calc.wait_while_running(1.0)"
   ]
  },
  {
   "cell_type": "code",
   "execution_count": null,
   "metadata": {},
   "outputs": [],
   "source": [
    "calc.status"
   ]
  },
  {
   "cell_type": "code",
   "execution_count": null,
   "metadata": {},
   "outputs": [],
   "source": [
    "calc = olex2.run_cmds_file(\n",
    "    cif_file='/mnt/qcrbox/shared_files/work_olex2/work.cif',\n",
    "    cmd_file='/mnt/qcrbox/shared_files/work_olex2/cmd.input'\n",
    ")\n",
    "\n",
    "calc.wait_while_running(0.5)\n"
   ]
  },
  {
   "cell_type": "code",
   "execution_count": null,
   "metadata": {},
   "outputs": [],
   "source": [
    "calc"
   ]
  },
  {
   "cell_type": "code",
   "execution_count": null,
   "metadata": {},
   "outputs": [],
   "source": [
    "params_pathhelper = QCrBoxPathHelper(\n",
    "    local_path='D:/QCrBox/QCrBox/shared_files',\n",
    "    base_dir='params_olex2'\n",
    ")\n",
    "\n",
    "params_path_local = params_pathhelper.local_path\n",
    "params_path_container = params_pathhelper.qcrbox_path\n",
    "\n",
    "params_path_local.mkdir(exist_ok=True)"
   ]
  },
  {
   "cell_type": "code",
   "execution_count": null,
   "metadata": {},
   "outputs": [],
   "source": [
    "calc = olex2.toparams__interactive(\n",
    "    work_folder = '/mnt/qcrbox/shared_files/work_olex2',\n",
    "    par_json= params_path_container / 'parameters.json',\n",
    "    par_folder=params_path_container\n",
    ")\n",
    "calc.wait_while_running(1.0)"
   ]
  },
  {
   "cell_type": "code",
   "execution_count": null,
   "metadata": {},
   "outputs": [],
   "source": [
    "calc.status"
   ]
  },
  {
   "cell_type": "code",
   "execution_count": null,
   "metadata": {},
   "outputs": [],
   "source": [
    "redo_pathhelper = QCrBoxPathHelper(\n",
    "    local_path='D:/QCrBox/QCrBox/shared_files',\n",
    "    base_dir='redo_olex2'\n",
    ")\n",
    "\n",
    "redo_path_local = redo_pathhelper.local_path\n",
    "redo_path_container = redo_pathhelper.qcrbox_path\n",
    "\n",
    "redo_path_local.mkdir(exist_ok=True)\n"
   ]
  },
  {
   "cell_type": "code",
   "execution_count": null,
   "metadata": {},
   "outputs": [],
   "source": [
    "\n",
    "calc = olex2.redo__interactive(\n",
    "    input_cif=redo_path_container / 'input.cif',\n",
    "    work_folder=redo_path_container,\n",
    "    par_json=params_path_container / 'parameters.json',\n",
    "    par_folder=params_path_container\n",
    ")"
   ]
  },
  {
   "cell_type": "code",
   "execution_count": null,
   "metadata": {},
   "outputs": [],
   "source": [
    "calc.wait_while_running(1.0)"
   ]
  },
  {
   "cell_type": "code",
   "execution_count": null,
   "metadata": {},
   "outputs": [],
   "source": [
    "calc.status"
   ]
  },
  {
   "cell_type": "code",
   "execution_count": null,
   "metadata": {},
   "outputs": [],
   "source": []
  }
 ],
 "metadata": {
  "kernelspec": {
   "display_name": "Python 3",
   "language": "python",
   "name": "python3"
  },
  "language_info": {
   "codemirror_mode": {
    "name": "ipython",
    "version": 3
   },
   "file_extension": ".py",
   "mimetype": "text/x-python",
   "name": "python",
   "nbconvert_exporter": "python",
   "pygments_lexer": "ipython3",
   "version": "3.11.7"
  },
  "orig_nbformat": 4
 },
 "nbformat": 4,
 "nbformat_minor": 2
}
