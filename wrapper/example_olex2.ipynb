{
 "cells": [
  {
   "cell_type": "markdown",
   "metadata": {},
   "source": [
    "# Example Notebook illustrating the use of Olex2 in QCrBox\n",
    "\n",
    "Using the dotenv package makes things more convenient as we can read the environment variables from the `.env.dev` file in the QCrBox directory. If you want to run with python core packages only comment out the load_dotenv lines and insert the local and qcrbox pathes manually into the pathhelper from the `.env.dev` file."
   ]
  },
  {
   "cell_type": "code",
   "execution_count": 1,
   "metadata": {},
   "outputs": [],
   "source": [
    "import os\n",
    "import shutil\n",
    "\n",
    "from dotenv import load_dotenv\n",
    "\n",
    "from qcrbox_wrapper import QCrBoxWrapper, QCrBoxPathHelper\n",
    "\n",
    "\n",
    "if not load_dotenv('../.env.dev'):\n",
    "    raise FileNotFoundError(\n",
    "        \".dot.env file could not be loaded. Either adapt the path to your filesystem or \"\n",
    "        + \"input the information loaded from os.environ manually\"\n",
    "    )\n"
   ]
  },
  {
   "cell_type": "code",
   "execution_count": 2,
   "metadata": {},
   "outputs": [],
   "source": [
    "pathhelper = QCrBoxPathHelper(\n",
    "    os.environ['QCRBOX_SHARED_FILES_DIR_HOST_PATH'],\n",
    "    os.environ['QCRBOX_SHARED_FILES_DIR_CONTAINER_PATH'],\n",
    "    'examples_olex2'\n",
    ")"
   ]
  },
  {
   "cell_type": "markdown",
   "metadata": {},
   "source": [
    "We now have two python pathlib objects we can use to make the reference to our pathes much easier. We have also created an examples_olex2 folder we will use to work for this notebook."
   ]
  },
  {
   "cell_type": "code",
   "execution_count": 3,
   "metadata": {},
   "outputs": [],
   "source": [
    "path_local = pathhelper.local_path\n",
    "path_qcrbox = pathhelper.qcrbox_path"
   ]
  },
  {
   "cell_type": "markdown",
   "metadata": {},
   "source": [
    "Let us first connect to the QCrBox. Make sure that you have actually started up the container with `qcb up` in the terminal. Sometimes it can take a while for the Server to come online, so you might need to retry a few times. Unfortunately we have to pass the information, which commands are interactive commannds and where we can access them via browser. This is something that should be available from the containers in the future but unfortunately is not at the moment."
   ]
  },
  {
   "cell_type": "code",
   "execution_count": 4,
   "metadata": {},
   "outputs": [],
   "source": [
    "\n",
    "gui_infos = {\n",
    "    'Olex2 (Linux)': {'port': os.environ['QCRBOX_OLEX2_LINUX_PORT'], 'commands': ['interactive']}\n",
    "}\n",
    "\n",
    "qcrbox = QCrBoxWrapper('127.0.0.1', 11000, gui_infos)"
   ]
  },
  {
   "cell_type": "markdown",
   "metadata": {},
   "source": [
    "We can now see what applications are currently available and how we can access them. Olex2 (Linux) should show up here and therefore we select it in the new cell."
   ]
  },
  {
   "cell_type": "code",
   "execution_count": 5,
   "metadata": {},
   "outputs": [
    {
     "data": {
      "text/plain": [
       "{'Olex2 (Linux)': Olex2 (Linux)()}"
      ]
     },
     "execution_count": 5,
     "metadata": {},
     "output_type": "execute_result"
    }
   ],
   "source": [
    "qcrbox.application_dict"
   ]
  },
  {
   "cell_type": "code",
   "execution_count": 6,
   "metadata": {},
   "outputs": [],
   "source": [
    "olex2 = qcrbox.application_dict['Olex2 (Linux)']"
   ]
  },
  {
   "cell_type": "markdown",
   "metadata": {},
   "source": [
    "Using the python buildin help function we can see which commands are available for the given container."
   ]
  },
  {
   "cell_type": "code",
   "execution_count": 7,
   "metadata": {},
   "outputs": [
    {
     "name": "stdout",
     "output_type": "stream",
     "text": [
      "Help on QCrBoxApplication in module qcrbox_wrapper:\n",
      "\n",
      "Olex2 (Linux)()\n",
      "    Represents the Olex2 (Linux) application (v. 1.5) in QCrBox\n",
      "    \n",
      "    Methods:\n",
      "        interactive(\n",
      "            input_cif_path: str\n",
      "        )\n",
      "    \n",
      "        refine_iam(\n",
      "            input_cif_path: str,\n",
      "            ls_cycles: str,\n",
      "            weight_cycles: str\n",
      "        )\n",
      "    \n",
      "        refine_tsc(\n",
      "            input_cif_path: str,\n",
      "            tsc_path: str,\n",
      "            ls_cycles: str,\n",
      "            weight_cycles: str\n",
      "        )\n",
      "    \n",
      "        run_cmds_file(\n",
      "            input_cif_path: str,\n",
      "            cmd_file_path: str\n",
      "        )\n",
      "    \n",
      "        toparams__interactive(\n",
      "            input_cif_path: str,\n",
      "            par_json: str,\n",
      "            par_folder: str\n",
      "        )\n",
      "    \n",
      "        redo__interactive(\n",
      "            input_cif_path: str,\n",
      "            par_json: str,\n",
      "            par_folder: str\n",
      "        )\n",
      "\n"
     ]
    }
   ],
   "source": [
    "help(olex2)"
   ]
  },
  {
   "cell_type": "markdown",
   "metadata": {},
   "source": [
    "We can now run our first command. QCrBox works with a subsect of cif entries, which will be called *unified cif entries* in this explanation. The subset are the base cif entries in the current cif dictionaries (as of March 2024). The conversion of these entries into a format the individual programs can understand is programmed into the commands themselves. This way the aliases of the cif format do not need to be taken into account by the developers of the software. If you want to create such a cif file from any cif, look at the `qcrboxtools.to_unified_cif function` or the QCrBoxTools library.\n",
    "\n",
    "## Running an IAM refinement\n",
    "\n",
    "For the time being we copy our example cif file into the folder we will work in. We can then use the `olex2.refine_iam` function to do a refinement against spherical atomic form factors. Notice that all our python code uses the local path, while the function runs in the container itself and therefore needs a path relative to the container (derived from `path_qcrbox`).\n",
    "\n",
    "Finally, all functions in containers are executed asynchronously and non-blocking in our script. In order to wait until the function has been executed we can use the `wait_while_running` function of the returned calculated object"
   ]
  },
  {
   "cell_type": "code",
   "execution_count": 8,
   "metadata": {},
   "outputs": [],
   "source": [
    "folder_iam = path_local / 'run_refine_iam'\n",
    "folder_iam.mkdir(exist_ok=True)\n",
    "\n",
    "shutil.copy('./input_files/input.cif', folder_iam / 'input.cif')\n",
    "\n",
    "calc = olex2.refine_iam(\n",
    "    input_cif_path=path_qcrbox / 'run_refine_iam' / 'input.cif',\n",
    "    ls_cycles='20',\n",
    "    weight_cycles='5'\n",
    ")\n",
    "\n",
    "calc.wait_while_running(1.0)"
   ]
  },
  {
   "cell_type": "markdown",
   "metadata": {},
   "source": [
    "What will happen under the hood is that qcrbox will generate a `work.cif` that has all the entries in aliases Olex2 understands. It will then run the refinement. Afterwards it will create a new cif that uses unified keywords again called `output.cif`.\n",
    "\n",
    "Finally we can have a look at that calculation object. It gives updated information about the calculation and in many cases information why a calculation might have failed. Fortunately, our status should now show 'completed', which means everything went as intended."
   ]
  },
  {
   "cell_type": "code",
   "execution_count": 9,
   "metadata": {},
   "outputs": [
    {
     "data": {
      "text/plain": [
       "QCrBoxCalculationStatus(calculation_id=1, command_id=2, started_at='2024-03-01T09:16:58.883421', status='completed', status_details={'status': 'completed', 'details': {'returncode': 0, 'stdout': '', 'stderr': ''}})"
      ]
     },
     "execution_count": 9,
     "metadata": {},
     "output_type": "execute_result"
    }
   ],
   "source": [
    "calc.status"
   ]
  },
  {
   "cell_type": "markdown",
   "metadata": {},
   "source": [
    "If you have a failure in the execution of a command it is always a good idea to look into the log of your docker container. The way Olex2 is executed here gives an additional source of information: `task_*.log` files. Have a look in your folder, where several of these should now be located.\n",
    "\n",
    "# Running a refinement with a tsc file.\n",
    "\n",
    "There is also exposed functionality to run the refinement with a `tsc(b)` file. Let's do just that"
   ]
  },
  {
   "cell_type": "code",
   "execution_count": 10,
   "metadata": {},
   "outputs": [],
   "source": [
    "folder_tsc = path_local / 'run_refine_tsc'\n",
    "folder_tsc.mkdir(exist_ok=True)\n",
    "\n",
    "shutil.copy('./input_files/input.cif', folder_tsc / 'input.cif')\n",
    "shutil.copy('./input_files/example.tscb', folder_tsc / 'example.tscb')\n",
    "\n",
    "calc = olex2.refine_tsc(\n",
    "    input_cif_path=path_qcrbox / 'run_refine_tsc' / 'input.cif',\n",
    "    tsc_path=path_qcrbox / 'run_refine_tsc' / 'example.tscb',\n",
    "    ls_cycles='20',\n",
    "    weight_cycles='5'\n",
    ")\n",
    "\n",
    "calc.wait_while_running(1.0)\n"
   ]
  },
  {
   "cell_type": "markdown",
   "metadata": {},
   "source": [
    "If you go to the folder, you'll see that there are again our cif files. The task_*.log file with the highest number should contain the progress of your refinement. If you want to, you can compare the numbers to what was obtained by the IAM refinement.\n",
    "\n",
    "## Running arbitrary Olex console commands.\n",
    "\n",
    "Finally, there is the option to run arbitrary olex2 console commands from a file. Let us put everything in a folder first"
   ]
  },
  {
   "cell_type": "code",
   "execution_count": 11,
   "metadata": {},
   "outputs": [],
   "source": [
    "folder_cmd = path_local / 'run_cmd_file'\n",
    "folder_cmd.mkdir(exist_ok=True)\n",
    "\n",
    "shutil.copy('./input_files/input.cif', folder_cmd / 'input.cif');"
   ]
  },
  {
   "cell_type": "markdown",
   "metadata": {},
   "source": [
    "Now we create a text file that includes the commands we want to execute as lines. Let's create a `structure.xyz` file from our cif. "
   ]
  },
  {
   "cell_type": "code",
   "execution_count": 16,
   "metadata": {},
   "outputs": [],
   "source": [
    "commands = ['file structure.xyz']\n",
    "\n",
    "command_file = folder_cmd / 'cmd.input'\n",
    "command_file.write_text('\\n'.join(commands))\n",
    "\n",
    "calc = olex2.run_cmds_file(\n",
    "    input_cif_path=path_qcrbox / 'run_cmd_file' / 'input.cif',\n",
    "    cmd_file_path=path_qcrbox / 'run_cmd_file' / 'cmd.input',\n",
    ")\n",
    "\n",
    "calc.wait_while_running(0.5)\n"
   ]
  },
  {
   "cell_type": "markdown",
   "metadata": {},
   "source": [
    "You might see that there is no `output.cif` file in the folder. The `output.cif` is only generated if the work.cif has been changed during our operations. If you want to, you can use a command like 'refine 10' to actually change the `work.cif` and check that the `output.cif` file is generated in this case."
   ]
  },
  {
   "cell_type": "markdown",
   "metadata": {},
   "source": [
    "## Running the Olex2 GUI from QCrBox\n",
    "\n",
    "While the other commands are run non-interactively, we can also run the Olex2 GUI from QCrBox. The exposed command for this purpose is called `interactive`. However, we do face a problem. Olex2 works and outputs other cif entries than unified ones, but we only want to convert once we are done with whatever we want to to in the GUI. \n",
    "\n",
    "Once we run the `interactive` command, two things happen: Firstly, a new browser window with the GUI opens up. Secondly, you should see an input prompt in your execution engine for this notebook. (In Jupyter this should be at the end of the cell, in VSCode it is at the top). By pressing enter within this prompt we tell QCrBox that we are done and the newest cif in the folder is supposed to be converted. Note that this is a stopgap for an actual UI, so this feels a bit clunky at the moment.\n",
    "\n",
    "Once you have done something in the UI and have pressed enter you should see an `output.cif` in the `run_interactive` folder."
   ]
  },
  {
   "cell_type": "code",
   "execution_count": 13,
   "metadata": {},
   "outputs": [
    {
     "data": {
      "text/plain": [
       "QCrBoxCalculationStatus(calculation_id=5, command_id=1, started_at='2024-03-01T09:17:56.827103', status='completed', status_details={'status': 'completed', 'details': {'returncode': 0, 'stdout': 'Finished\\n', 'stderr': ''}})"
      ]
     },
     "execution_count": 13,
     "metadata": {},
     "output_type": "execute_result"
    }
   ],
   "source": [
    "folder_interactive = path_local / 'run_interactive'\n",
    "folder_interactive.mkdir(exist_ok=True)\n",
    "\n",
    "input_interactive = folder_interactive / 'input.cif'\n",
    "shutil.copy('./input_files/input.cif', input_interactive)\n",
    "\n",
    "calc = olex2.interactive(\n",
    "    input_cif_path=path_qcrbox / 'run_interactive' / 'input.cif'\n",
    ")\n",
    "calc.status"
   ]
  },
  {
   "cell_type": "markdown",
   "metadata": {},
   "source": [
    "## Final Remarks\n",
    "This concludes this notebook explaining how to interact with the Olex2 container. You might realise that there are to functions `to_params__interactive` and `redo__interactive`. These will be explained in the developer documentation. "
   ]
  }
 ],
 "metadata": {
  "kernelspec": {
   "display_name": "Python 3",
   "language": "python",
   "name": "python3"
  },
  "language_info": {
   "codemirror_mode": {
    "name": "ipython",
    "version": 3
   },
   "file_extension": ".py",
   "mimetype": "text/x-python",
   "name": "python",
   "nbconvert_exporter": "python",
   "pygments_lexer": "ipython3",
   "version": "3.11.7"
  },
  "orig_nbformat": 4
 },
 "nbformat": 4,
 "nbformat_minor": 2
}
