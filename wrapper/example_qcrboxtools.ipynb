{
 "cells": [
  {
   "cell_type": "code",
   "execution_count": 1,
   "metadata": {},
   "outputs": [],
   "source": [
    "from qcrbox_wrapper import *\n"
   ]
  },
  {
   "cell_type": "code",
   "execution_count": 2,
   "metadata": {},
   "outputs": [],
   "source": [
    "qcrbox = QCrBoxWrapper('localhost', 11000)"
   ]
  },
  {
   "cell_type": "code",
   "execution_count": 3,
   "metadata": {},
   "outputs": [],
   "source": [
    "qcrboxtools = qcrbox.application_dict['QCrBoxTools']"
   ]
  },
  {
   "cell_type": "code",
   "execution_count": 4,
   "metadata": {},
   "outputs": [
    {
     "name": "stdout",
     "output_type": "stream",
     "text": [
      "Help on QCrBoxApplication in module qcrbox_wrapper:\n",
      "\n",
      "QCrBoxTools()\n",
      "    Represents the QCrBoxTools application (v. git_6ac6d08) in QCrBox\n",
      "\n",
      "    Methods:\n",
      "        replace_structure_from_cif(\n",
      "            input_cif_file: str,\n",
      "            structure_cif_file: str\n",
      "        )\n",
      "\n",
      "        iso2aniso(\n",
      "            cif_path: str,\n",
      "            cif_dataset: str,\n",
      "            select_names: str,\n",
      "            select_elements: str,\n",
      "            select_regexes: str\n",
      "        )\n",
      "\n",
      "        check_structure_convergence(\n",
      "            cif1_path: str,\n",
      "            cif2_path: str,\n",
      "            max_abs_position: str,\n",
      "            max_position_su: str,\n",
      "            max_abs_uij: str,\n",
      "            max_uij_su: str,\n",
      "            output_json: str\n",
      "        )\n",
      "\n"
     ]
    }
   ],
   "source": [
    "help(qcrboxtools)"
   ]
  },
  {
   "cell_type": "code",
   "execution_count": 5,
   "metadata": {},
   "outputs": [
    {
     "name": "stdout",
     "output_type": "stream",
     "text": [
      "{'response_to': 'invoke_command', 'status': 'error', 'msg': None, 'payload': {'msg_execute_calculation': {'action': 'execute_calculation', 'payload': {'command_id': 5, 'calculation_id': 2, 'arguments': {'cif1_path': '/mnt/qcrbox/shared_files/test_convergence_func/difference_test1.cif', 'cif2_path': '/mnt/qcrbox/shared_files/test_convergence_func/difference_test2.cif', 'max_abs_position': '0.001', 'max_position_su': 'None', 'max_abs_uij': '0.005', 'max_uij_su': '1.0', 'output_json': '/mnt/qcrbox/shared_files/test_convergence_func/output.json'}, 'container_qcrbox_id': 'qcrbox_container_0xebc7589621ee4706a0cc3a3dc5a23385'}}, 'routing_key': 'qcrbox_rk_0x828fe32a818043318d0e615c64e2b6db'}}\n"
     ]
    },
    {
     "ename": "ConnectionError",
     "evalue": "Command not successfully send",
     "output_type": "error",
     "traceback": [
      "\u001b[1;31m---------------------------------------------------------------------------\u001b[0m",
      "\u001b[1;31mConnectionError\u001b[0m                           Traceback (most recent call last)",
      "Cell \u001b[1;32mIn[5], line 1\u001b[0m\n\u001b[1;32m----> 1\u001b[0m calc \u001b[38;5;241m=\u001b[39m \u001b[43mqcrboxtools\u001b[49m\u001b[38;5;241;43m.\u001b[39;49m\u001b[43mcheck_structure_convergence\u001b[49m\u001b[43m(\u001b[49m\n\u001b[0;32m      2\u001b[0m \u001b[43m    \u001b[49m\u001b[43mcif1_path\u001b[49m\u001b[38;5;241;43m=\u001b[39;49m\u001b[38;5;124;43m'\u001b[39;49m\u001b[38;5;124;43m/mnt/qcrbox/shared_files/test_convergence_func/difference_test1.cif\u001b[39;49m\u001b[38;5;124;43m'\u001b[39;49m\u001b[43m,\u001b[49m\n\u001b[0;32m      3\u001b[0m \u001b[43m    \u001b[49m\u001b[43mcif2_path\u001b[49m\u001b[38;5;241;43m=\u001b[39;49m\u001b[38;5;124;43m'\u001b[39;49m\u001b[38;5;124;43m/mnt/qcrbox/shared_files/test_convergence_func/difference_test2.cif\u001b[39;49m\u001b[38;5;124;43m'\u001b[39;49m\u001b[43m,\u001b[49m\n\u001b[0;32m      4\u001b[0m \u001b[43m    \u001b[49m\u001b[43mmax_abs_position\u001b[49m\u001b[38;5;241;43m=\u001b[39;49m\u001b[38;5;124;43m'\u001b[39;49m\u001b[38;5;124;43m0.001\u001b[39;49m\u001b[38;5;124;43m'\u001b[39;49m\u001b[43m,\u001b[49m\n\u001b[0;32m      5\u001b[0m \u001b[43m    \u001b[49m\u001b[43mmax_position_su\u001b[49m\u001b[38;5;241;43m=\u001b[39;49m\u001b[38;5;124;43m'\u001b[39;49m\u001b[38;5;124;43mNone\u001b[39;49m\u001b[38;5;124;43m'\u001b[39;49m\u001b[43m,\u001b[49m\n\u001b[0;32m      6\u001b[0m \u001b[43m    \u001b[49m\u001b[43mmax_abs_uij\u001b[49m\u001b[38;5;241;43m=\u001b[39;49m\u001b[38;5;124;43m'\u001b[39;49m\u001b[38;5;124;43m0.005\u001b[39;49m\u001b[38;5;124;43m'\u001b[39;49m\u001b[43m,\u001b[49m\n\u001b[0;32m      7\u001b[0m \u001b[43m    \u001b[49m\u001b[43mmax_uij_su\u001b[49m\u001b[38;5;241;43m=\u001b[39;49m\u001b[38;5;124;43m'\u001b[39;49m\u001b[38;5;124;43m1.0\u001b[39;49m\u001b[38;5;124;43m'\u001b[39;49m\u001b[43m,\u001b[49m\n\u001b[0;32m      8\u001b[0m \u001b[43m    \u001b[49m\u001b[43moutput_json\u001b[49m\u001b[38;5;241;43m=\u001b[39;49m\u001b[38;5;124;43m'\u001b[39;49m\u001b[38;5;124;43m/mnt/qcrbox/shared_files/test_convergence_func/output.json\u001b[39;49m\u001b[38;5;124;43m'\u001b[39;49m\n\u001b[0;32m      9\u001b[0m \u001b[43m)\u001b[49m\n",
      "File \u001b[1;32md:\\QcrBox\\QCrBox\\wrapper\\qcrbox_wrapper.py:265\u001b[0m, in \u001b[0;36mQCrBoxCommand.__call__\u001b[1;34m(self, *args, **kwargs)\u001b[0m\n\u001b[0;32m    263\u001b[0m \u001b[38;5;28;01mif\u001b[39;00m \u001b[38;5;129;01mnot\u001b[39;00m answer[\u001b[38;5;124m'\u001b[39m\u001b[38;5;124mstatus\u001b[39m\u001b[38;5;124m'\u001b[39m] \u001b[38;5;241m==\u001b[39m \u001b[38;5;124m'\u001b[39m\u001b[38;5;124msuccess\u001b[39m\u001b[38;5;124m'\u001b[39m:\n\u001b[0;32m    264\u001b[0m     \u001b[38;5;28mprint\u001b[39m(answer)\n\u001b[1;32m--> 265\u001b[0m     \u001b[38;5;28;01mraise\u001b[39;00m \u001b[38;5;167;01mConnectionError\u001b[39;00m(\u001b[38;5;124m'\u001b[39m\u001b[38;5;124mCommand not successfully send\u001b[39m\u001b[38;5;124m'\u001b[39m)\n\u001b[0;32m    267\u001b[0m \u001b[38;5;66;03m#TODO Probably replace all of this with a returned adress from server\u001b[39;00m\n\u001b[0;32m    268\u001b[0m \u001b[38;5;28;01mdef\u001b[39;00m \u001b[38;5;21mgui_address\u001b[39m(app_id, cmd_name):\n",
      "\u001b[1;31mConnectionError\u001b[0m: Command not successfully send"
     ]
    }
   ],
   "source": [
    "calc = qcrboxtools.check_structure_convergence(\n",
    "    cif1_path='/mnt/qcrbox/shared_files/test_convergence_func/difference_test1.cif',\n",
    "    cif2_path='/mnt/qcrbox/shared_files/test_convergence_func/difference_test2.cif',\n",
    "    max_abs_position='0.001',\n",
    "    max_position_su='None',\n",
    "    max_abs_uij='0.005',\n",
    "    max_uij_su='1.0',\n",
    "    output_json='/mnt/qcrbox/shared_files/test_convergence_func/output.json'\n",
    ")"
   ]
  },
  {
   "cell_type": "code",
   "execution_count": null,
   "metadata": {},
   "outputs": [],
   "source": [
    "print(calc.status)\n",
    "calc.wait_while_running(0.2)\n",
    "print(calc.status)"
   ]
  },
  {
   "cell_type": "code",
   "execution_count": null,
   "metadata": {},
   "outputs": [],
   "source": [
    "qcrboxtools.check_structure_convergence.id"
   ]
  },
  {
   "cell_type": "code",
   "execution_count": null,
   "metadata": {},
   "outputs": [],
   "source": [
    "calc2 = qcrboxtools.iso2aniso(\n",
    "    cif_path='/mnt/qcrbox/shared_files/test_iso2aniso/epoxide.cif',\n",
    "    cif_dataset='0',\n",
    "    select_names='None',\n",
    "    select_elements='H',\n",
    "    select_regexes='None'\n",
    ")"
   ]
  },
  {
   "cell_type": "code",
   "execution_count": null,
   "metadata": {},
   "outputs": [],
   "source": [
    "print(calc2.status)\n",
    "calc2.wait_while_running(0.2)\n",
    "print(calc2.status)"
   ]
  },
  {
   "cell_type": "code",
   "execution_count": null,
   "metadata": {},
   "outputs": [],
   "source": [
    "calc3 = qcrboxtools.replace_structure_from_cif(\n",
    "    input_cif_file='/mnt/qcrbox/shared_files/replace_test/test.cif',\n",
    "    structure_cif_file='/mnt/qcrbox/shared_files/replace_test/80K_P_out.cif'\n",
    ")"
   ]
  },
  {
   "cell_type": "code",
   "execution_count": null,
   "metadata": {},
   "outputs": [],
   "source": [
    "print(calc3.status)\n",
    "calc3.wait_while_running(0.2)\n",
    "print(calc3.status)"
   ]
  },
  {
   "cell_type": "code",
   "execution_count": null,
   "metadata": {},
   "outputs": [],
   "source": []
  },
  {
   "cell_type": "code",
   "execution_count": null,
   "metadata": {},
   "outputs": [],
   "source": []
  }
 ],
 "metadata": {
  "kernelspec": {
   "display_name": "Python 3",
   "language": "python",
   "name": "python3"
  },
  "language_info": {
   "codemirror_mode": {
    "name": "ipython",
    "version": 3
   },
   "file_extension": ".py",
   "mimetype": "text/x-python",
   "name": "python",
   "nbconvert_exporter": "python",
   "pygments_lexer": "ipython3",
   "version": "3.11.7"
  },
  "orig_nbformat": 4
 },
 "nbformat": 4,
 "nbformat_minor": 2
}
