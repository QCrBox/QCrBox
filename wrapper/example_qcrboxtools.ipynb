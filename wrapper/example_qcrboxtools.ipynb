{
 "cells": [
  {
   "cell_type": "markdown",
   "metadata": {},
   "source": [
    "# Run functions from QCrBoxTools from QCrBox\n",
    "QCrBoxTools is a library that is installed in any QCrBox container. At the moment it contains three types of functionality. Firstly, functionality to modify, trim, merge or convert the cif entries if crystallographic information framework (cif) files. Secondly, implementations to automatically run some programs we have added to the QCrBox (which are the \"Robot\" classes.) Finally, functions which are needed in a pipeline workflow of QCrBox. The latter functionality is exposed via the QCrBoxTools container.\n",
    "\n",
    "The example starts again by using the dotenv package, as it makes things more convenient because we can read the environment variables from the .env.dev file in the QCrBox directory. If you want to run with python core packages only, comment out the load_dotenv lines and insert the local and qcrbox pathes manually into the pathhelper from the .env.dev file."
   ]
  },
  {
   "cell_type": "code",
   "execution_count": null,
   "metadata": {},
   "outputs": [],
   "source": [
    "import os\n",
    "import shutil\n",
    "import json\n",
    "\n",
    "from dotenv import load_dotenv\n",
    "\n",
    "from qcrbox_wrapper import QCrBoxWrapper, QCrBoxPathHelper\n",
    "\n",
    "\n",
    "if not load_dotenv('../.env.dev'):\n",
    "    raise FileNotFoundError(\n",
    "        \".dot.env file could not be loaded. Either adapt the path to your filesystem or \"\n",
    "        + \"input the information loaded from os.environ manually\"\n",
    "    )\n"
   ]
  },
  {
   "cell_type": "markdown",
   "metadata": {},
   "source": [
    "We create an example folder to try out this functionality."
   ]
  },
  {
   "cell_type": "code",
   "execution_count": null,
   "metadata": {},
   "outputs": [],
   "source": [
    "pathhelper = QCrBoxPathHelper(\n",
    "    os.environ['QCRBOX_SHARED_FILES_DIR_HOST_PATH'],\n",
    "    os.environ['QCRBOX_SHARED_FILES_DIR_CONTAINER_PATH'],\n",
    "    'examples_qcrboxtools'\n",
    ")\n",
    "\n",
    "path_local = pathhelper.local_path\n",
    "path_qcrbox = pathhelper.qcrbox_path"
   ]
  },
  {
   "cell_type": "markdown",
   "metadata": {},
   "source": [
    "## Connecting to QCrBox\n",
    "We can connect to the QCrBox Inventory via python after we have started everything with qcb up. Sometimes the server takes a while so you might need to retry if it initially refuses connection. This should not take more than 30 seconds after your console output says that everything has started."
   ]
  },
  {
   "cell_type": "code",
   "execution_count": null,
   "metadata": {},
   "outputs": [],
   "source": [
    "qcrbox = QCrBoxWrapper('localhost', 11000)"
   ]
  },
  {
   "cell_type": "code",
   "execution_count": null,
   "metadata": {},
   "outputs": [],
   "source": [
    "qcrboxtools = qcrbox.application_dict['QCrBoxTools']"
   ]
  },
  {
   "cell_type": "code",
   "execution_count": null,
   "metadata": {},
   "outputs": [],
   "source": [
    "help(qcrboxtools)"
   ]
  },
  {
   "cell_type": "markdown",
   "metadata": {},
   "source": [
    "## Converting a given cif to the unified keywords used in QCrBoxTools\n",
    "\n",
    "If we start with a given cif and want to create a unified cif. QCrBox works with a subsect of cif entries, which are the base cif entries in the current cif dictionaries (as of February 2024). Additionally uncertainties are split into their own entries. To convert any cif file into this format we can use the `to_unified_cif` method of QCrBoxTools. If you prefer to use an outside library, the QCrBoxtools python library also offers this functionality in the `qcrboxtools.cif.cif2cif` module.\n",
    "\n",
    "Let us copy an example file and do the transformation."
   ]
  },
  {
   "cell_type": "code",
   "execution_count": null,
   "metadata": {},
   "outputs": [],
   "source": [
    "folder_unify = path_local / 'run_unify_cif'\n",
    "folder_unify.mkdir(exist_ok=True)\n",
    "\n",
    "shutil.copy('./input_files/non_unified_kws.cif', folder_unify / 'non_unified_kws.cif')\n",
    "\n",
    "calc4 = qcrboxtools.to_unified_cif(\n",
    "    input_cif_path=path_qcrbox / 'run_unify_cif' / 'non_unified_kws.cif',\n",
    "    output_cif_path=path_qcrbox / 'run_unify_cif' / 'output.cif',\n",
    "    custom_category_list='iucr olex shelx'\n",
    ")\n",
    "\n",
    "print(calc4.status)\n",
    "calc4.wait_while_running(0.2)\n",
    "print(calc4.status)"
   ]
  },
  {
   "cell_type": "code",
   "execution_count": null,
   "metadata": {},
   "outputs": [],
   "source": [
    "calc = qcrboxtools.check_structure_convergence(\n",
    "    cif1_path='/mnt/qcrbox/shared_files/test_convergence_func/difference_test1.cif',\n",
    "    cif2_path='/mnt/qcrbox/shared_files/test_convergence_func/difference_test2.cif',\n",
    "    max_abs_position='0.001',\n",
    "    max_position_su='None',\n",
    "    max_abs_uij='0.005',\n",
    "    max_uij_su='1.0',\n",
    "    output_json='/mnt/qcrbox/shared_files/test_convergence_func/output.json'\n",
    ")\n",
    "\n",
    "calc.wait_while_running(0.2)\n",
    "print(calc.status)"
   ]
  },
  {
   "cell_type": "code",
   "execution_count": null,
   "metadata": {},
   "outputs": [],
   "source": [
    "calc2 = qcrboxtools.iso2aniso(\n",
    "    cif_path='/mnt/qcrbox/shared_files/test_iso2aniso/olex_unified.cif',\n",
    "    cif_dataset='0',\n",
    "    select_names='None',\n",
    "    select_elements='H',\n",
    "    select_regexes='None'\n",
    ")"
   ]
  },
  {
   "cell_type": "code",
   "execution_count": null,
   "metadata": {},
   "outputs": [],
   "source": [
    "print(calc2.status)\n",
    "calc2.wait_while_running(0.2)\n",
    "print(calc2.status)"
   ]
  },
  {
   "cell_type": "code",
   "execution_count": null,
   "metadata": {},
   "outputs": [],
   "source": [
    "calc3 = qcrboxtools.replace_structure_from_cif(\n",
    "    input_cif_path='/mnt/qcrbox/shared_files/replace_test/test.cif',\n",
    "    structure_cif_path='/mnt/qcrbox/shared_files/replace_test/80K_P_out.cif'\n",
    ")"
   ]
  },
  {
   "cell_type": "code",
   "execution_count": null,
   "metadata": {},
   "outputs": [],
   "source": [
    "print(calc3.status)\n",
    "calc3.wait_while_running(0.2)\n",
    "print(calc3.status)"
   ]
  },
  {
   "cell_type": "code",
   "execution_count": null,
   "metadata": {},
   "outputs": [],
   "source": []
  }
 ],
 "metadata": {
  "kernelspec": {
   "display_name": "Python 3",
   "language": "python",
   "name": "python3"
  },
  "language_info": {
   "codemirror_mode": {
    "name": "ipython",
    "version": 3
   },
   "file_extension": ".py",
   "mimetype": "text/x-python",
   "name": "python",
   "nbconvert_exporter": "python",
   "pygments_lexer": "ipython3",
   "version": "3.11.7"
  },
  "orig_nbformat": 4
 },
 "nbformat": 4,
 "nbformat_minor": 2
}
