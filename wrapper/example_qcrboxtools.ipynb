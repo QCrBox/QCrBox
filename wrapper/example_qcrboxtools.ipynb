{
 "cells": [
  {
   "cell_type": "markdown",
   "metadata": {},
   "source": [
    "# Run functions from QCrBoxTools from QCrBox\n",
    "QCrBoxTools is a library that is installed in any QCrBox container. At the moment it contains three types of functionality. Firstly, functionality to modify, trim, merge or convert the cif entries if crystallographic information framework (cif) files. Secondly, implementations to automatically run some programs we have added to the QCrBox (which are the \"Robot\" classes.) Finally, functions which are needed in a pipeline workflow of QCrBox. The latter functionality is exposed via the QCrBoxTools container.\n",
    "\n",
    "The example starts again by using the dotenv package. It makes things more convenient as we can read the environment variables from the .env.dev file in the QCrBox directory. If you want to run with python core packages only, comment out the load_dotenv lines and insert the local and qcrbox pathes manually into the `pathhelper` using the information in your .env.dev file."
   ]
  },
  {
   "cell_type": "code",
   "execution_count": 1,
   "metadata": {},
   "outputs": [],
   "source": [
    "import os\n",
    "import shutil\n",
    "\n",
    "from dotenv import load_dotenv\n",
    "\n",
    "from qcrbox_wrapper import QCrBoxWrapper, QCrBoxPathHelper\n",
    "\n",
    "\n",
    "if not load_dotenv('../.env.dev'):\n",
    "    raise FileNotFoundError(\n",
    "        \".dot.env file could not be loaded. Either adapt the path to your filesystem or \"\n",
    "        + \"input the information loaded from os.environ manually\"\n",
    "    )\n"
   ]
  },
  {
   "cell_type": "markdown",
   "metadata": {},
   "source": [
    "We create an example folder to try out this functionality."
   ]
  },
  {
   "cell_type": "code",
   "execution_count": 2,
   "metadata": {},
   "outputs": [],
   "source": [
    "pathhelper = QCrBoxPathHelper(\n",
    "    os.environ['QCRBOX_SHARED_FILES_DIR_HOST_PATH'],\n",
    "    os.environ['QCRBOX_SHARED_FILES_DIR_CONTAINER_PATH'],\n",
    "    'examples_qcrboxtools'\n",
    ")\n",
    "\n",
    "path_local = pathhelper.local_path\n",
    "path_qcrbox = pathhelper.qcrbox_path"
   ]
  },
  {
   "cell_type": "markdown",
   "metadata": {},
   "source": [
    "## Connecting to QCrBox\n",
    "We can connect to the QCrBox Inventory via python after we have started everything with qcb up. Sometimes the server takes a while so you might need to retry if it initially refuses connection. This should not take more than 30 seconds after your console output says that everything has started."
   ]
  },
  {
   "cell_type": "code",
   "execution_count": 3,
   "metadata": {},
   "outputs": [],
   "source": [
    "qcrbox = QCrBoxWrapper('127.0.0.1', 11000)"
   ]
  },
  {
   "cell_type": "code",
   "execution_count": 4,
   "metadata": {},
   "outputs": [],
   "source": [
    "qcrboxtools = qcrbox.application_dict['QCrBoxTools']"
   ]
  },
  {
   "cell_type": "code",
   "execution_count": 5,
   "metadata": {},
   "outputs": [
    {
     "name": "stdout",
     "output_type": "stream",
     "text": [
      "Help on QCrBoxApplication in module qcrbox_wrapper:\n",
      "\n",
      "QCrBoxTools()\n",
      "    Represents the QCrBoxTools application (v. 0.0.5) in QCrBox\n",
      "    \n",
      "    Methods:\n",
      "        replace_structure_from_cif(\n",
      "            input_cif_path: str,\n",
      "            structure_cif_path: str\n",
      "        )\n",
      "    \n",
      "        check_structure_convergence(\n",
      "            cif1_path: str,\n",
      "            cif2_path: str,\n",
      "            max_abs_position: str,\n",
      "            max_position_su: str,\n",
      "            max_abs_uij: str,\n",
      "            max_uij_su: str,\n",
      "            output_json: str\n",
      "        )\n",
      "    \n",
      "        iso2aniso(\n",
      "            cif_path: str,\n",
      "            cif_dataset: str,\n",
      "            select_names: str,\n",
      "            select_elements: str,\n",
      "            select_regexes: str\n",
      "        )\n",
      "    \n",
      "        to_unified_cif(\n",
      "            input_cif_path: str,\n",
      "            output_cif_path: str,\n",
      "            custom_category_list: str\n",
      "        )\n",
      "\n"
     ]
    }
   ],
   "source": [
    "help(qcrboxtools)"
   ]
  },
  {
   "cell_type": "markdown",
   "metadata": {},
   "source": [
    "## Converting a given cif to the unified keywords used in QCrBoxTools\n",
    "\n",
    "QCrBox works with a subsect of cif entries, which are the base cif entries in the current cif dictionaries (as of February 2024). Additionally uncertainties are split into their own entries. Within the individual containers, the unified cif is then converted to whatever input the individual programs need. To convert any cif file into this format we can use the `to_unified_cif` method of QCrBoxTools. If you prefer to use an outside library instead up spinning up a container, the QCrBoxtools python library also offers this functionality in the `cif_file_unify_split` function of the `qcrboxtools.cif.cif2cif` module.\n",
    "\n",
    "Let us copy an example file and do the transformation. Notice that calculations in QCrBox are started asynchronously. We can track the status of the calculation using the QCrBoxCalculation object returned by the command call. The QCrBoxCalculation also has a `wait_while_running` method that allows us to stop our script until the command has been completed."
   ]
  },
  {
   "cell_type": "code",
   "execution_count": 6,
   "metadata": {},
   "outputs": [
    {
     "name": "stdout",
     "output_type": "stream",
     "text": [
      "QCrBoxCalculationStatus(calculation_id=1, command_id=4, started_at='2024-03-04T14:29:04.576734', status='running', status_details={'status': 'running', 'details': {'returncode': None}})\n",
      "QCrBoxCalculationStatus(calculation_id=1, command_id=4, started_at='2024-03-04T14:29:04.576734', status='completed', status_details={'status': 'completed', 'details': {'returncode': 0, 'stdout': '', 'stderr': ''}})\n"
     ]
    }
   ],
   "source": [
    "# create a new folder for this example\n",
    "folder_unify = path_local / 'run_unify_cif'\n",
    "folder_unify.mkdir(exist_ok=True)\n",
    "\n",
    "# copy file\n",
    "shutil.copy('./input_files/non_unified_kws.cif', folder_unify / 'non_unified_kws.cif')\n",
    "\n",
    "# start command\n",
    "calc = qcrboxtools.to_unified_cif(\n",
    "    input_cif_path=path_qcrbox / 'run_unify_cif' / 'non_unified_kws.cif',\n",
    "    output_cif_path=path_qcrbox / 'run_unify_cif' / 'output.cif',\n",
    "    custom_category_list='iucr olex shelx'\n",
    ")\n",
    "\n",
    "# wait for command to finish\n",
    "print(calc.status)\n",
    "calc.wait_while_running(0.2)\n",
    "print(calc.status)"
   ]
  },
  {
   "cell_type": "markdown",
   "metadata": {},
   "source": [
    "Feel free to check the `output.cif`. You can now used this file to start any other functionality within QCrBox.\n",
    "\n",
    "## Making atoms anisotropic\n",
    "\n",
    "There is a helper function to make selected atoms anisotropic. Here we can select a dataset, by name or index. The string given in dataset will always be tried as a name of a datablock (in case one of your datablocks is named as a number). If there is no data block of that name, the function will then try to interpret the `cif_dataset` as an index starting from 0 for the first dataset."
   ]
  },
  {
   "cell_type": "code",
   "execution_count": 7,
   "metadata": {},
   "outputs": [],
   "source": [
    "# create a new folder for this example\n",
    "folder_iso2aniso = path_local / 'run_iso2aniso'\n",
    "folder_iso2aniso.mkdir(exist_ok=True)\n",
    "\n",
    "# copy files\n",
    "shutil.copy('./input_files/iso2aniso.cif', folder_iso2aniso / 'iso2aniso.cif')\n",
    "\n",
    "# run command\n",
    "calc2 = qcrboxtools.iso2aniso(\n",
    "    cif_path=path_qcrbox / 'run_iso2aniso' / 'iso2aniso.cif',\n",
    "    cif_dataset='0',\n",
    "    select_names='None',\n",
    "    select_elements='H',\n",
    "    select_regexes='None'\n",
    ")"
   ]
  },
  {
   "cell_type": "code",
   "execution_count": 8,
   "metadata": {},
   "outputs": [
    {
     "name": "stdout",
     "output_type": "stream",
     "text": [
      "QCrBoxCalculationStatus(calculation_id=2, command_id=3, started_at='2024-03-04T15:01:32.975511', status='running', status_details={'status': 'running', 'details': {'returncode': None}})\n",
      "QCrBoxCalculationStatus(calculation_id=2, command_id=3, started_at='2024-03-04T15:01:32.975511', status='completed', status_details={'status': 'completed', 'details': {'returncode': 0, 'stdout': '', 'stderr': ''}})\n"
     ]
    }
   ],
   "source": [
    "print(calc2.status)\n",
    "calc2.wait_while_running(0.2)\n",
    "print(calc2.status)"
   ]
  },
  {
   "cell_type": "markdown",
   "metadata": {},
   "source": [
    "# Functions for use within a data processing pipeline\n",
    "## Run a convergence check between two cif files\n",
    "\n",
    "\n",
    "Parameters: Setting a value to `None` will deactivate that test\n",
    " - `max_abs_position` : Maximum difference in atomic positions in Angstrom\n",
    " - `max_position_su` : Maximum position difference / position su\n",
    " - `max abs uij`: Maximum difference in anisotropic displacement parameters in Ang**2\n",
    " - `max uij su`: Maximum Uij difference / Uij su\n",
    "\n",
    " Output will be written to `output_json` in json format"
   ]
  },
  {
   "cell_type": "code",
   "execution_count": 10,
   "metadata": {},
   "outputs": [
    {
     "name": "stdout",
     "output_type": "stream",
     "text": [
      "QCrBoxCalculationStatus(calculation_id=3, command_id=2, started_at='2024-03-04T15:13:10.651873', status='completed', status_details={'status': 'completed', 'details': {'returncode': 0, 'stdout': '', 'stderr': ''}})\n"
     ]
    }
   ],
   "source": [
    "# create a new folder for this example\n",
    "folder_convergence = path_local / 'run_convergence'\n",
    "folder_convergence.mkdir(exist_ok=True)\n",
    "\n",
    "# copy files\n",
    "shutil.copy('./input_files/difference_test1.cif', folder_convergence / 'difference_test1.cif')\n",
    "shutil.copy('./input_files/difference_test2.cif', folder_convergence / 'difference_test2.cif')\n",
    "\n",
    "# start calculation\n",
    "calc3 = qcrboxtools.check_structure_convergence(\n",
    "    cif1_path=path_qcrbox / 'run_convergence' / 'difference_test1.cif',\n",
    "    cif2_path=path_qcrbox / 'run_convergence' / 'difference_test2.cif',\n",
    "    max_abs_position='0.001',\n",
    "    max_position_su='None',\n",
    "    max_abs_uij='0.005',\n",
    "    max_uij_su='1.0',\n",
    "    output_json=path_qcrbox / 'run_convergence' / 'output.json'\n",
    ")\n",
    "\n",
    "# wait for calculation to finish (should be really quick here)\n",
    "calc3.wait_while_running(0.2)\n",
    "print(calc3.status)"
   ]
  },
  {
   "cell_type": "markdown",
   "metadata": {},
   "source": [
    "## Replace structure from cif\n",
    "\n",
    "replaces structure in input_cif_path with atomic structure (atom_site_table) from structure structure_cif_path. Will be extended in the future."
   ]
  },
  {
   "cell_type": "code",
   "execution_count": null,
   "metadata": {},
   "outputs": [],
   "source": [
    "calc4 = qcrboxtools.replace_structure_from_cif(\n",
    "    input_cif_path='/mnt/qcrbox/shared_files/replace_test/test.cif',\n",
    "    structure_cif_path='/mnt/qcrbox/shared_files/replace_test/80K_P_out.cif'\n",
    ")"
   ]
  },
  {
   "cell_type": "code",
   "execution_count": null,
   "metadata": {},
   "outputs": [],
   "source": [
    "print(calc4.status)\n",
    "calc4.wait_while_running(0.2)\n",
    "print(calc4.status)"
   ]
  },
  {
   "cell_type": "code",
   "execution_count": null,
   "metadata": {},
   "outputs": [],
   "source": []
  }
 ],
 "metadata": {
  "kernelspec": {
   "display_name": "Python 3",
   "language": "python",
   "name": "python3"
  },
  "language_info": {
   "codemirror_mode": {
    "name": "ipython",
    "version": 3
   },
   "file_extension": ".py",
   "mimetype": "text/x-python",
   "name": "python",
   "nbconvert_exporter": "python",
   "pygments_lexer": "ipython3",
   "version": "3.11.7"
  },
  "orig_nbformat": 4
 },
 "nbformat": 4,
 "nbformat_minor": 2
}
