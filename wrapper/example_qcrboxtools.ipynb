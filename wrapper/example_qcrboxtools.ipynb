{
 "cells": [
  {
   "cell_type": "code",
   "execution_count": null,
   "metadata": {},
   "outputs": [],
   "source": [
    "from qcrbox_wrapper import *\n"
   ]
  },
  {
   "cell_type": "code",
   "execution_count": null,
   "metadata": {},
   "outputs": [],
   "source": [
    "qcrbox = QCrBoxWrapper('localhost', 11000)"
   ]
  },
  {
   "cell_type": "code",
   "execution_count": null,
   "metadata": {},
   "outputs": [],
   "source": [
    "qcrboxtools = qcrbox.application_dict['QCrBoxTools']"
   ]
  },
  {
   "cell_type": "code",
   "execution_count": null,
   "metadata": {},
   "outputs": [],
   "source": [
    "help(qcrboxtools)"
   ]
  },
  {
   "cell_type": "code",
   "execution_count": null,
   "metadata": {},
   "outputs": [],
   "source": [
    "calc = qcrboxtools.check_structure_convergence(\n",
    "    cif1_path='/mnt/qcrbox/shared_files/test_convergence_func/difference_test1.cif',\n",
    "    cif2_path='/mnt/qcrbox/shared_files/test_convergence_func/difference_test2.cif',\n",
    "    max_abs_position='0.001',\n",
    "    max_position_su='None',\n",
    "    max_abs_uij='0.005',\n",
    "    max_uij_su='1.0',\n",
    "    output_json='/mnt/qcrbox/shared_files/test_convergence_func/output.json'\n",
    ")"
   ]
  },
  {
   "cell_type": "code",
   "execution_count": null,
   "metadata": {},
   "outputs": [],
   "source": [
    "print(calc.status)\n",
    "calc.wait_while_running(0.2)\n",
    "print(calc.status)"
   ]
  },
  {
   "cell_type": "code",
   "execution_count": null,
   "metadata": {},
   "outputs": [],
   "source": [
    "qcrboxtools.check_structure_convergence.id"
   ]
  },
  {
   "cell_type": "code",
   "execution_count": null,
   "metadata": {},
   "outputs": [],
   "source": [
    "calc2 = qcrboxtools.iso2aniso(\n",
    "    cif_path='/mnt/qcrbox/shared_files/test_iso2aniso/olex_unified.cif',\n",
    "    cif_dataset='0',\n",
    "    select_names='None',\n",
    "    select_elements='H',\n",
    "    select_regexes='None'\n",
    ")"
   ]
  },
  {
   "cell_type": "code",
   "execution_count": null,
   "metadata": {},
   "outputs": [],
   "source": [
    "print(calc2.status)\n",
    "calc2.wait_while_running(0.2)\n",
    "print(calc2.status)"
   ]
  },
  {
   "cell_type": "code",
   "execution_count": null,
   "metadata": {},
   "outputs": [],
   "source": [
    "calc3 = qcrboxtools.replace_structure_from_cif(\n",
    "    input_cif_path='/mnt/qcrbox/shared_files/replace_test/test.cif',\n",
    "    structure_cif_path='/mnt/qcrbox/shared_files/replace_test/80K_P_out.cif'\n",
    ")"
   ]
  },
  {
   "cell_type": "code",
   "execution_count": null,
   "metadata": {},
   "outputs": [],
   "source": [
    "print(calc3.status)\n",
    "calc3.wait_while_running(0.2)\n",
    "print(calc3.status)"
   ]
  },
  {
   "cell_type": "code",
   "execution_count": null,
   "metadata": {},
   "outputs": [],
   "source": [
    "calc4 = qcrboxtools.to_unified_cif(\n",
    "    input_cif_path='/mnt/qcrbox/shared_files/test_cif_entry_unify/epoxide.cif',\n",
    "    output_cif_path='/mnt/qcrbox/shared_files/test_cif_entry_unify/output.cif',\n",
    "    custom_category_list='iucr olex shelx'\n",
    ")\n",
    "\n",
    "print(calc4.status)\n",
    "calc4.wait_while_running(0.2)\n",
    "print(calc4.status)"
   ]
  },
  {
   "cell_type": "code",
   "execution_count": null,
   "metadata": {},
   "outputs": [],
   "source": []
  }
 ],
 "metadata": {
  "kernelspec": {
   "display_name": "Python 3",
   "language": "python",
   "name": "python3"
  },
  "language_info": {
   "codemirror_mode": {
    "name": "ipython",
    "version": 3
   },
   "file_extension": ".py",
   "mimetype": "text/x-python",
   "name": "python",
   "nbconvert_exporter": "python",
   "pygments_lexer": "ipython3",
   "version": "3.11.7"
  },
  "orig_nbformat": 4
 },
 "nbformat": 4,
 "nbformat_minor": 2
}
