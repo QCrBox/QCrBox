{
 "cells": [
  {
   "cell_type": "markdown",
   "metadata": {},
   "source": [
    "# Some common tasks you can do with QCrBoxtools\n",
    "\n",
    "This is a short reference of functions that are implemented in the [QCrBoxTools](https://github.com/QCrBox/QCrBoxTools) library, which is available in the `qcrbox` conda environment in every QCrBox container. This is not a complete collection but highlights some functions which might be useful for your own development. If these functions work with an `iotbx.cif` it is assumed that they are in [unified cif format](./handle_cifs.md).\n",
    "\n",
    "In this first cell, we create ourselves a content manager for temporary files. Make sure you execute the next cell before all others."
   ]
  },
  {
   "cell_type": "code",
   "execution_count": 1,
   "metadata": {},
   "outputs": [],
   "source": [
    "from contextlib import contextmanager\n",
    "from tempfile import NamedTemporaryFile\n",
    "from textwrap import dedent\n",
    "from pathlib import Path\n",
    "\n",
    "@contextmanager\n",
    "def temp_file_context(suffix: str, file_text: str) -> str:\n",
    "    temp_cif = NamedTemporaryFile(suffix=suffix, delete=False)\n",
    "    temp_cif.write(dedent(file_text).encode(\"utf-8\"))\n",
    "    temp_cif.close()\n",
    "    yield Path(temp_cif.name)\n",
    "    Path(temp_cif.name).unlink()\n"
   ]
  },
  {
   "cell_type": "markdown",
   "metadata": {},
   "source": [
    "## Load a cif in unified format\n",
    "We create a small temporary file first and then load it from disk as unified cif. This function makes sure that you do not need to handle aliases yourself."
   ]
  },
  {
   "cell_type": "code",
   "execution_count": 2,
   "metadata": {},
   "outputs": [
    {
     "name": "stdout",
     "output_type": "stream",
     "text": [
      "10.0 0.02\n"
     ]
    }
   ],
   "source": [
    "from qcrboxtools.cif.read import read_cif_as_unified\n",
    "\n",
    "cif_text = dedent(\"\"\"\n",
    "    data_test\n",
    "    _cell_length_a 10.00(2)\n",
    "    _cell_length_b 11.01(12)\n",
    "    _cell_length_c 12.05(5)\n",
    "\"\"\")\n",
    "\n",
    "with temp_file_context(\".cif\", cif_text) as cif_path:\n",
    "    unified_block = read_cif_as_unified(\n",
    "        cif_path=cif_path, # path to the CIF file.\n",
    "        dataset=0, # use an integer to specify dataset by position, a string to specify by name\n",
    "    )\n",
    "\n",
    "# We now use unified keywords. Standard uncertainties are stored in the \"<entry>_su\" keys.\n",
    "# We can now be sure which aliases of the entries are used.\n",
    "print(unified_block[\"_cell.length_a\"], unified_block[\"_cell.length_a_su\"])"
   ]
  },
  {
   "cell_type": "markdown",
   "metadata": {},
   "source": [
    "## Generating an hkl from a cif."
   ]
  },
  {
   "cell_type": "code",
   "execution_count": 4,
   "metadata": {},
   "outputs": [
    {
     "name": "stdout",
     "output_type": "stream",
     "text": [
      "   0   0   3 93.4022 38.7231   2\n",
      "   0   0  -3 192.939 61.9940   2\n",
      "   0   0  -4 144304. 1540.24   2\n",
      "   0   0   4 146626. 1495.57   2\n",
      "   0   0  -5 485.452 123.618   2\n",
      "   0   0   5 284.703 91.7571   2\n"
     ]
    }
   ],
   "source": [
    "from qcrboxtools.cif.file_converter.hkl import cif2hkl4\n",
    "\n",
    "cif_text = dedent(\"\"\"\n",
    "    data_test\n",
    "\n",
    "    loop_\n",
    "      _diffrn_refln.index_h\n",
    "      _diffrn_refln.index_k\n",
    "      _diffrn_refln.index_l\n",
    "      _diffrn_refln.intensity_net\n",
    "      _diffrn_refln.intensity_net_su\n",
    "      _diffrn_refln.scale_group_code\n",
    "      0    0    3   93.4022  38.7231  2\n",
    "      0    0   -3   192.939   61.994  2\n",
    "      0    0   -4    144304  1540.24  2\n",
    "      0    0    4    146626  1495.57  2\n",
    "      0    0   -5   485.452  123.618  2\n",
    "      0    0    5   284.703  91.7571  2\n",
    "\"\"\")\n",
    "\n",
    "with temp_file_context(\".cif\", cif_text) as cif_path:\n",
    "    with temp_file_context(\".hkl\", \"\") as hkl_path:\n",
    "        # Generates an HKL file from the CIF file.\n",
    "        cif2hkl4(\n",
    "            cif_path=cif_path,\n",
    "            cif_dataset=0,\n",
    "            hkl_path=hkl_path\n",
    "        )\n",
    "        print(hkl_path.read_text()) # check the content of the generated HKL file\n"
   ]
  },
  {
   "cell_type": "markdown",
   "metadata": {},
   "source": [
    "## Getting a new cif with non-unified cif entries from a unified cif"
   ]
  },
  {
   "cell_type": "code",
   "execution_count": 9,
   "metadata": {},
   "outputs": [
    {
     "name": "stdout",
     "output_type": "stream",
     "text": [
      "data_test\n",
      "_cell_length_a                    10.00(2)\n",
      "_cell_length_b                    11.02(12)\n",
      "_cell_length_c                    12.05(5)\n",
      "_custom_category_entry            testme\n",
      "\n"
     ]
    }
   ],
   "source": [
    "from qcrboxtools.cif.cif2cif import cif_file_to_specific\n",
    "\n",
    "cif_text = dedent(\"\"\"\n",
    "    data_test\n",
    "    _cell.length_a 10.0002\n",
    "    _cell.length_a_su 0.02\n",
    "    _cell.length_b 11.019\n",
    "    _cell.length_b_su 0.12\n",
    "    _cell.length_c 12.05\n",
    "    _cell.length_c_su 0.05\n",
    "    _cell.volume 1331.0\n",
    "    _custom_category.entry testme\n",
    "\"\"\")\n",
    "\n",
    "with temp_file_context(\".cif\", cif_text) as cif_path:\n",
    "    with temp_file_context(\".cif\", \"\") as new_cif_path:\n",
    "        # Generates a new CIF file with only the specified entries.\n",
    "        cif_file_to_specific(\n",
    "            input_cif_path=cif_path,\n",
    "            output_cif_path=new_cif_path,\n",
    "            required_entries=[\"_cell_length_a\", \"_cell_length_b\", \"_custom_category_entry\"],\n",
    "            optional_entries=[\"_cell_length_c\", \"_cell_angle_alpha\"], # notice that \"_cell_angle_alpha\" is not present in the input CIF file\n",
    "            custom_categories=[\"custom_category\"],\n",
    "            merge_su=True\n",
    "        )\n",
    "        print(new_cif_path.read_text()) # check the content of the generated CIF file"
   ]
  },
  {
   "cell_type": "markdown",
   "metadata": {},
   "source": [
    "## Merge two CIF blocks\n",
    "QCrBox has a helper functions to merge cif blocks, including merging loops on specified entries"
   ]
  },
  {
   "cell_type": "code",
   "execution_count": 18,
   "metadata": {},
   "outputs": [
    {
     "name": "stdout",
     "output_type": "stream",
     "text": [
      "_cell.length_a                    10.0002\n",
      "_cell.length_a_su                 0.02\n",
      "_cell.length_b                    11.019\n",
      "_cell.length_b_su                 0.12\n",
      "_cell.length_c                    15.05\n",
      "_cell.length_c_su                 0.05\n",
      "loop_\n",
      "  _refln.index_h\n",
      "  _refln.index_k\n",
      "  _refln.index_l\n",
      "  _refln.f_squared_meas\n",
      "  _refln.f_squared_meas_su\n",
      "  _refln.f_calc\n",
      "  _refln.phase_calc\n",
      "  0  0   3  93.4022  38.7231  31.4022   0.5\n",
      "  0  0  -3  192.939   61.994        ?     ?\n",
      "  0  0  -4   144304  1540.24        ?     ?\n",
      "  0  0   4   146626  1495.57        ?     ?\n",
      "  0  0   5        ?        ?  192.939  90.5\n",
      "\n",
      "\n"
     ]
    }
   ],
   "source": [
    "from qcrboxtools.cif.merge import merge_cif_blocks\n",
    "from qcrboxtools.cif.read import read_cif_safe\n",
    "\n",
    "cif_text1 = dedent(\"\"\"\n",
    "    data_test\n",
    "    _cell.length_a 10.0002\n",
    "    _cell.length_a_su 0.02\n",
    "    _cell.length_b 11.019\n",
    "    _cell.length_b_su 0.12\n",
    "    _cell.length_c 12.05\n",
    "    _cell.length_c_su 0.05\n",
    "    loop_\n",
    "        _refln.index_h\n",
    "        _refln.index_k\n",
    "        _refln.index_l\n",
    "        _refln.f_squared_meas\n",
    "        _refln.f_squared_meas_su\n",
    "        0 0 3 93.4022 38.7231\n",
    "        0 0 -3 192.939 61.994\n",
    "        0 0 -4 144304 1540.24\n",
    "        0 0 4 146626 1495.57\n",
    "\"\"\")\n",
    "\n",
    "cif_text2 = dedent(\"\"\"\n",
    "    data_test\n",
    "    _cell.length_c 15.05\n",
    "    _cell.length_c_su 0.05\n",
    "    loop_\n",
    "        _refln.index_h\n",
    "        _refln.index_k\n",
    "        _refln.index_l\n",
    "        _refln.f_calc\n",
    "        _refln.phase_calc\n",
    "        0 0 3 31.4022 0.5\n",
    "        0 0 5 192.939 90.5\n",
    "\"\"\")\n",
    "\n",
    "with temp_file_context(\".cif\", cif_text1) as cif_path1:\n",
    "    with temp_file_context(\".cif\", cif_text2) as cif_path2:\n",
    "        block1 = read_cif_safe(cif_path1)[\"test\"] # read_cif_safe also supports pathlib.Path objects\n",
    "        block2 = read_cif_safe(cif_path2)[\"test\"]\n",
    "        merged_block = merge_cif_blocks(\n",
    "            block1=block1,\n",
    "            block2=block2, # block2 will overwrite block1\n",
    "            possible_markers=[\"_refln.index_.*\"] # markers to merge the loops on h,k,l unique,\n",
    "                                                 # would also work with default value\n",
    "        )\n",
    "        print(merged_block) # note that missing entries in a loop are filled with ?.\n",
    "                            # Ensure matching index to avoid"
   ]
  },
  {
   "cell_type": "code",
   "execution_count": null,
   "metadata": {},
   "outputs": [],
   "source": []
  }
 ],
 "metadata": {
  "kernelspec": {
   "display_name": "venv",
   "language": "python",
   "name": "python3"
  },
  "language_info": {
   "codemirror_mode": {
    "name": "ipython",
    "version": 3
   },
   "file_extension": ".py",
   "mimetype": "text/x-python",
   "name": "python",
   "nbconvert_exporter": "python",
   "pygments_lexer": "ipython3",
   "version": "3.11.9"
  }
 },
 "nbformat": 4,
 "nbformat_minor": 2
}
