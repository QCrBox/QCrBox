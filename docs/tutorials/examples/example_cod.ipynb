{
 "cells": [
  {
   "cell_type": "markdown",
   "metadata": {},
   "source": [
    "# Access the Crystallographic Open Database from QCrBox\n",
    "The COD is a database of crystal structures determined by single crystal XRD that is fully available to the public\n",
    "\n",
    "## Import and setting up folders / paths"
   ]
  },
  {
   "cell_type": "code",
   "execution_count": 7,
   "metadata": {},
   "outputs": [],
   "source": [
    "import shutil\n",
    "\n",
    "from qcrbox_wrapper import QCrBoxWrapper, QCrBoxPathHelper\n"
   ]
  },
  {
   "cell_type": "markdown",
   "metadata": {},
   "source": [
    "We create a path to run our COD examples and get our paths from our own computer's filesystem and the internal filesystem of the QCrBox containers.\n",
    "\n",
    "Using the dotenv package makes things more convenient as we can read the environment variables from the .env.dev file in the QCrBox directory. If you want to run with python core packages only, use the `__init__` method instead by defining the path to the shared directory explicitely in `path_to_shared_dir` and replacing the next four lines with:\n",
    "\n",
    "```python\n",
    "pathhelper = QCrBoxPathHelper(\n",
    "    path_to_shared_dir,\n",
    "    'examples_cod'\n",
    ")\n",
    "```"
   ]
  },
  {
   "cell_type": "code",
   "execution_count": 8,
   "metadata": {},
   "outputs": [],
   "source": [
    "pathhelper = QCrBoxPathHelper.from_dotenv(\n",
    "    '.env.dev',\n",
    "    'examples_cod'\n",
    ")"
   ]
  },
  {
   "cell_type": "markdown",
   "metadata": {},
   "source": [
    "We now have two python pathlib objects we can use to make the reference to our pathes much easier. We have also created an examples_cod folder we will use to work for this notebook."
   ]
  },
  {
   "cell_type": "code",
   "execution_count": 9,
   "metadata": {},
   "outputs": [],
   "source": [
    "path_local = pathhelper.local_path\n",
    "path_qcrbox = pathhelper.qcrbox_path"
   ]
  },
  {
   "cell_type": "markdown",
   "metadata": {},
   "source": [
    "Let us first connect to the QCrBox. Make sure that you have actually started up the container with `qcb up` in the terminal. Sometimes it can take a while for the Server to come online, so you might need to retry a few times. "
   ]
  },
  {
   "cell_type": "code",
   "execution_count": 10,
   "metadata": {},
   "outputs": [],
   "source": [
    "qcrbox = QCrBoxWrapper.from_server_addr('127.0.0.1', 11000)"
   ]
  },
  {
   "cell_type": "markdown",
   "metadata": {},
   "source": [
    "We can now see what applications are currently available and how we can access them. COD Check should show up here and therefore we select it in the new cell."
   ]
  },
  {
   "cell_type": "code",
   "execution_count": 11,
   "metadata": {},
   "outputs": [
    {
     "name": "stdout",
     "output_type": "stream",
     "text": [
      "\u001b[2m2024-08-22T13:24:23.963735Z\u001b[0m [\u001b[32m\u001b[1mdebug    \u001b[0m] \u001b[1mTODO: implement proper construction and validation of gui_url\u001b[0m \u001b[36mextra\u001b[0m=\u001b[35m{}\u001b[0m\n"
     ]
    },
    {
     "data": {
      "text/plain": [
       "{'COD Check': <COD Check>}"
      ]
     },
     "execution_count": 11,
     "metadata": {},
     "output_type": "execute_result"
    }
   ],
   "source": [
    "qcrbox.application_dict"
   ]
  },
  {
   "cell_type": "code",
   "execution_count": 12,
   "metadata": {},
   "outputs": [
    {
     "name": "stdout",
     "output_type": "stream",
     "text": [
      "\u001b[2m2024-08-22T13:24:28.238087Z\u001b[0m [\u001b[32m\u001b[1mdebug    \u001b[0m] \u001b[1mTODO: implement proper construction and validation of gui_url\u001b[0m \u001b[36mextra\u001b[0m=\u001b[35m{}\u001b[0m\n"
     ]
    }
   ],
   "source": [
    "cod = qcrbox.application_dict['COD Check']"
   ]
  },
  {
   "cell_type": "markdown",
   "metadata": {},
   "source": [
    "Using the python buildin help function we can see which commands are available for the given container."
   ]
  },
  {
   "cell_type": "code",
   "execution_count": 13,
   "metadata": {},
   "outputs": [
    {
     "name": "stdout",
     "output_type": "stream",
     "text": [
      "Help on QCrBoxApplication in module qcrbox_wrapper.qcrbox_application object:\n",
      "\n",
      "class QCrBoxApplication(builtins.object)\n",
      " |  QCrBoxApplication(application_spec: pyqcrbox.sql_models_NEW_v2.application_spec.ApplicationSpecWithCommands, wrapper_parent: 'QCrBoxWrapper') -> None\n",
      " |\n",
      " |  Represents an application in QCrBox packaged in its own container.\n",
      " |\n",
      " |  Methods defined here:\n",
      " |\n",
      " |  __init__(self, application_spec: pyqcrbox.sql_models_NEW_v2.application_spec.ApplicationSpecWithCommands, wrapper_parent: 'QCrBoxWrapper') -> None\n",
      " |      Initializes the QCrBoxApplication instance.\n",
      " |\n",
      " |      Parameters\n",
      " |      ----------\n",
      " |      application_spec: sql_models_NEW_v2.ApplicationSpecWithCommands\n",
      " |          The application spec as returned by the API endpoint `/applications`.\n",
      " |\n",
      " |  __repr__(self) -> str\n",
      " |      Return repr(self).\n",
      " |\n",
      " |  interactive_session(self, **kwargs)\n",
      " |\n",
      " |  ----------------------------------------------------------------------\n",
      " |  Readonly properties defined here:\n",
      " |\n",
      " |  interactive_commands\n",
      " |\n",
      " |  non_interactive_commands\n",
      " |\n",
      " |  ----------------------------------------------------------------------\n",
      " |  Data descriptors defined here:\n",
      " |\n",
      " |  __dict__\n",
      " |      dictionary for instance variables\n",
      " |\n",
      " |  __weakref__\n",
      " |      list of weak references to the object\n",
      "\n"
     ]
    }
   ],
   "source": [
    "help(cod)"
   ]
  },
  {
   "cell_type": "markdown",
   "metadata": {},
   "source": [
    "We can now run our first command. QCrBox works with a subsect of cif entries, which will be called *unified cif entries* in this explanation. The subset are the base cif entries in the current cif dictionaries (as of March 2024). The conversion of these entries into a format the individual programs can understand is programmed into the commands themselves. This way the aliases of the cif format do not need to be taken into account by the developers of the software. If you want to create such a cif file from any cif, look at the `qcrboxtools.to_unified_cif function` or the QCrBoxTools library.\n",
    "\n",
    "# Getting the number of entries with similar cell parameters and content in the COD\n",
    "\n",
    "For the time being we copy our example cif file into the folder we will work in. We then use the `cod.get_number_fitting_cod_entries` to get the number of similar entries written to the file `nentries.json` in our work directory. Note that the path passed to the command is relative to the container file system (derived from `path_qcrbox`).\n",
    "\n",
    "Finally, all functions in containers are executed asynchronously and non-blocking in our script. In order to wait until the function has been executed we can use the `wait_while_running` function of the returned calculated object"
   ]
  },
  {
   "cell_type": "code",
   "execution_count": 14,
   "metadata": {},
   "outputs": [],
   "source": [
    "folder_test = path_local / 'example_count'\n",
    "folder_test.mkdir(exist_ok=True)\n",
    "\n",
    "shutil.copy('./input_files/cap_result.cif', folder_test / 'input.cif')\n",
    "\n",
    "calc= cod.get_number_fitting_cod_entries(\n",
    "    input_cif_path=path_qcrbox / 'example_count' / 'input.cif',\n",
    "    cellpar_deviation_perc=5.0,\n",
    "    listed_elements_only=True\n",
    ")\n",
    "\n",
    "calc.wait_while_running(0.5)"
   ]
  },
  {
   "cell_type": "code",
   "execution_count": 15,
   "metadata": {},
   "outputs": [
    {
     "data": {
      "text/plain": [
       "<CalculationStatusEnum.SUCCESSFUL: 'successful'>"
      ]
     },
     "execution_count": 15,
     "metadata": {},
     "output_type": "execute_result"
    }
   ],
   "source": [
    "calc.status"
   ]
  },
  {
   "cell_type": "markdown",
   "metadata": {},
   "source": [
    "# Copying the atomic positions from the closest match in the COD\n",
    "\n",
    "Here we download the structure with the closest cell parameters, given that the elements are the same and insert the cell parameters into an existing cif file."
   ]
  },
  {
   "cell_type": "code",
   "execution_count": 16,
   "metadata": {},
   "outputs": [],
   "source": [
    "folder_test2 = path_local / 'example_merge'\n",
    "folder_test2.mkdir(exist_ok=True)\n",
    "\n",
    "shutil.copy('./input_files/cap_result.cif', folder_test2 / 'input.cif')\n",
    "\n",
    "calc= cod.merge_closest_cod_entry(\n",
    "    input_cif_path=path_qcrbox / 'example_merge' / 'input.cif',\n",
    "    output_cif_path=path_qcrbox / 'example_merge' / 'output.cif',\n",
    "    cellpar_deviation_perc=5.0,\n",
    "    listed_elements_only=True\n",
    ")"
   ]
  },
  {
   "cell_type": "code",
   "execution_count": 18,
   "metadata": {},
   "outputs": [
    {
     "data": {
      "text/plain": [
       "<CalculationStatusEnum.SUCCESSFUL: 'successful'>"
      ]
     },
     "execution_count": 18,
     "metadata": {},
     "output_type": "execute_result"
    }
   ],
   "source": [
    "calc.status"
   ]
  },
  {
   "cell_type": "code",
   "execution_count": null,
   "metadata": {},
   "outputs": [],
   "source": []
  }
 ],
 "metadata": {
  "kernelspec": {
   "display_name": "Python 3 (ipykernel)",
   "language": "python",
   "name": "python3"
  },
  "language_info": {
   "codemirror_mode": {
    "name": "ipython",
    "version": 3
   },
   "file_extension": ".py",
   "mimetype": "text/x-python",
   "name": "python",
   "nbconvert_exporter": "python",
   "pygments_lexer": "ipython3",
   "version": "3.12.4"
  }
 },
 "nbformat": 4,
 "nbformat_minor": 4
}
