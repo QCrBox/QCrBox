{
 "cells": [
  {
   "cell_type": "markdown",
   "metadata": {},
   "source": [
    "# Run CrysAlisPro from QCrBox\n",
    "CrysAlisPro is the software from Rigaku that is used to integrate and scale intensities of reflections from frames measured on Rigaku machines\n",
    "\n",
    "We start by downloading the zip archive with the frame folder."
   ]
  },
  {
   "cell_type": "code",
   "execution_count": null,
   "metadata": {},
   "outputs": [],
   "source": [
    "import urllib.request\n",
    "import zipfile\n",
    "from pathlib import Path\n",
    "\n",
    "from qcrbox_wrapper import QCrBoxPathHelper, QCrBoxWrapper\n",
    "\n",
    "frames_zip = Path(\"./input_files/Ylid_Mo_RT.zip\")\n",
    "\n",
    "if not frames_zip.exists():\n",
    "    url = f\"https://github.com/QCrBox/QCrBoxExamples/raw/main/CrysAlisPro/{frames_zip.name}\"\n",
    "    urllib.request.urlretrieve(url, frames_zip)"
   ]
  },
  {
   "cell_type": "markdown",
   "metadata": {},
   "source": [
    "We create a path to run our CrysalisPro example and get our paths from our own computer's filesystem and the internal filesystem of the QCrBox containers.\n",
    "\n",
    "Using the dotenv package makes things more convenient as we can read the environment variables from the .env.dev file in the QCrBox directory. If you want to run with python core packages only, use the `__init__` method instead by defining the path to the shared directory explicitely in `path_to_shared_dir` and replacing the next four lines with:\n",
    "\n",
    "```python\n",
    "pathhelper = QCrBoxPathHelper(\n",
    "    path_to_shared_dir,\n",
    "    'examples_crysalispro'\n",
    ")\n",
    "```"
   ]
  },
  {
   "cell_type": "code",
   "execution_count": null,
   "metadata": {},
   "outputs": [],
   "source": [
    "pathhelper = QCrBoxPathHelper.from_dotenv(\".env.dev\", \"examples_crysalispro\")\n",
    "\n",
    "path_local = pathhelper.local_path\n",
    "path_qcrbox = pathhelper.qcrbox_path"
   ]
  },
  {
   "cell_type": "markdown",
   "metadata": {},
   "source": [
    "## Connecting to QCrBox\n",
    "\n",
    "We can connect to the QCrBox Inventory via python after we have started everything with `qcb up`. Sometimes the server takes a while so you might need to retry if it initially refuses connection. This should not take more than 30 seconds after your console output says that everything has started."
   ]
  },
  {
   "cell_type": "code",
   "execution_count": null,
   "metadata": {},
   "outputs": [],
   "source": [
    "qcrbox = QCrBoxWrapper.from_server_addr(\"127.0.0.1\", 11000)"
   ]
  },
  {
   "cell_type": "markdown",
   "metadata": {},
   "source": [
    "We should see `CrysalisPro` in our application_dict and should put the application object it into a variable to interact with it."
   ]
  },
  {
   "cell_type": "code",
   "execution_count": null,
   "metadata": {},
   "outputs": [],
   "source": [
    "qcrbox.application_dict"
   ]
  },
  {
   "cell_type": "code",
   "execution_count": null,
   "metadata": {},
   "outputs": [],
   "source": [
    "crysalis_pro = qcrbox.application_dict[\"CrysalisPro\"]"
   ]
  },
  {
   "cell_type": "code",
   "execution_count": null,
   "metadata": {},
   "outputs": [],
   "source": [
    "help(crysalis_pro)"
   ]
  },
  {
   "cell_type": "markdown",
   "metadata": {},
   "source": [
    "## Starting an interactive session.\n",
    "\n",
    "We can run CrysAlisPro in an interactive browser session. But first we need tu unzip the archive we have downloaded at the beginning."
   ]
  },
  {
   "cell_type": "code",
   "execution_count": null,
   "metadata": {},
   "outputs": [],
   "source": [
    "# create a new folder for this example\n",
    "folder_interact = path_local / \"run_interactive\"\n",
    "folder_interact.mkdir(exist_ok=True)\n",
    "\n",
    "with zipfile.ZipFile(frames_zip, \"r\") as zip_obj:\n",
    "    zip_obj.extractall(folder_interact)"
   ]
  },
  {
   "cell_type": "markdown",
   "metadata": {},
   "source": [
    "Now let us start an interactive session. Once we run the `interactive` command, two things happen: Firstly, a new browser window with the opens up, where a command line interface opens in the folder of your choice. Secondly, you should see an input prompt in your execution engine for this notebook. (In Jupyter this should be at the end of the cell, in VSCode it is at the top). By pressing enter within this prompt we tell QCrBox that we are done following the example."
   ]
  },
  {
   "cell_type": "code",
   "execution_count": null,
   "metadata": {},
   "outputs": [],
   "source": [
    "# calc = crysalis_pro.interactive(\n",
    "#    path_qcrbox / 'run_interactive' / 'Ylid_Mo_RT/Ylid_Mo_RT.run',\n",
    "#    output_cif_path = path_qcrbox / 'run_interactive' / 'Ylid_Mo_RT' / 'qcrbox_output.cif'\n",
    "# )"
   ]
  },
  {
   "cell_type": "code",
   "execution_count": null,
   "metadata": {},
   "outputs": [],
   "source": [
    "# calc"
   ]
  },
  {
   "cell_type": "code",
   "execution_count": null,
   "metadata": {},
   "outputs": [],
   "source": [
    "session = crysalis_pro.interactive_session(\n",
    "    par_path=path_qcrbox / \"run_interactive\" / \"Ylid_Mo_RT/Ylid_Mo_RT.run\",\n",
    "    output_cif_path=path_qcrbox / \"run_interactive\" / \"Ylid_Mo_RT\" / \"qcrbox_output.cif\",\n",
    ")\n",
    "session.start()"
   ]
  },
  {
   "cell_type": "code",
   "execution_count": null,
   "metadata": {},
   "outputs": [],
   "source": [
    "session.close()"
   ]
  }
 ],
 "metadata": {
  "kernelspec": {
   "display_name": "Python 3 (ipykernel)",
   "language": "python",
   "name": "python3"
  },
  "language_info": {
   "codemirror_mode": {
    "name": "ipython",
    "version": 3
   },
   "file_extension": ".py",
   "mimetype": "text/x-python",
   "name": "python",
   "nbconvert_exporter": "python",
   "pygments_lexer": "ipython3",
   "version": "3.12.4"
  }
 },
 "nbformat": 4,
 "nbformat_minor": 4
}
