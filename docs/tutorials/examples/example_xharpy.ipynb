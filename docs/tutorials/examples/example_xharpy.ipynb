{
 "cells": [
  {
   "cell_type": "markdown",
   "metadata": {},
   "source": [
    "# Run functions from XHARPy from QCrBox\n",
    "\n",
    "XHARPy is an external library to calculate atomic from factors from periodic PAW DFT calculations availablable on its own on [Github](https://github.com/Niolon/XHARPy). Two functionalities are currently exposed within QCrBox: calculation of atomic form factors and full HAR refinement.\n",
    "\n",
    "## Prerequisites\n",
    "This notebook uses the `qcrbox_wrapper` package. Make sure you have run\n",
    "\n",
    "```bash\n",
    "pip install -e ./qcrbox_wrapper[env-file]\n",
    "```\n",
    "\n",
    "from the QCrBox base directory in whatever python environment you are using to run this notebook.\n",
    "\n",
    "## Import and setting up folders / paths"
   ]
  },
  {
   "cell_type": "code",
   "execution_count": null,
   "metadata": {},
   "outputs": [],
   "source": [
    "import shutil\n",
    "\n",
    "from qcrbox_wrapper import QCrBoxWrapper, QCrBoxPathHelper\n"
   ]
  },
  {
   "cell_type": "markdown",
   "metadata": {},
   "source": [
    "We create an example folder to try out this functionality.\n",
    "\n",
    "\n",
    "Using the dotenv package makes things more convenient as we can read the environment variables from the .env.dev file in the QCrBox directory. If you want to run with python core packages only, use the `__init__` method instead by defining the path to the shared directory explicitely in `path_to_shared_dir` and replacing the next four lines with:\n",
    "\n",
    "\n",
    "```python\n",
    "pathhelper = QCrBoxPathHelper(\n",
    "    path_to_shared_dir,\n",
    "    'examples_xharpy'\n",
    ")\n",
    "```"
   ]
  },
  {
   "cell_type": "code",
   "execution_count": null,
   "metadata": {},
   "outputs": [],
   "source": [
    "pathhelper = QCrBoxPathHelper.from_dotenv(\n",
    "    '.env.dev',\n",
    "    'examples_xharpy'\n",
    ")\n",
    "\n",
    "path_local = pathhelper.local_path\n",
    "path_qcrbox = pathhelper.qcrbox_path"
   ]
  },
  {
   "cell_type": "markdown",
   "metadata": {},
   "source": [
    "## Connecting to QCrBox\n",
    "We can connect to the QCrBox Inventory via python after we have started everything with qcb up. Sometimes the server takes a while so you might need to retry if it initially refuses connection. This should not take more than 30 seconds after your console output says that everything has started."
   ]
  },
  {
   "cell_type": "code",
   "execution_count": null,
   "metadata": {},
   "outputs": [],
   "source": [
    "qcrbox = QCrBoxWrapper('127.0.0.1', 11000)"
   ]
  },
  {
   "cell_type": "code",
   "execution_count": null,
   "metadata": {},
   "outputs": [],
   "source": [
    "qcrbox.application_dict"
   ]
  },
  {
   "cell_type": "code",
   "execution_count": null,
   "metadata": {},
   "outputs": [],
   "source": [
    "xharpy = qcrbox.application_dict['XHARPy-GPAW']"
   ]
  },
  {
   "cell_type": "code",
   "execution_count": null,
   "metadata": {},
   "outputs": [],
   "source": [
    "help(xharpy)"
   ]
  },
  {
   "cell_type": "markdown",
   "metadata": {},
   "source": [
    "## Calculating aspheric atomic form factors and writing them into a tsc file\n",
    "\n",
    "A `tsc` file is the current standard way of exchanging non-spheric atomic form factors. Here we can calculate the tsc for the atoms within our asymmetric unit for the given crystal structure using GPAW. Functionals are any functionals that GPAW can use. A smaller grid spacing means more grid points *i.e.* a larger basis set in our calculation.\n"
   ]
  },
  {
   "cell_type": "code",
   "execution_count": null,
   "metadata": {},
   "outputs": [],
   "source": [
    "# create a new folder for this example\n",
    "folder_aff = path_local / 'run_tsc_calc'\n",
    "folder_aff.mkdir(exist_ok=True)\n",
    "\n",
    "# copy file\n",
    "shutil.copy('./input_files/input.cif', folder_aff / 'input.cif')\n",
    "\n",
    "# start command\n",
    "calc = xharpy.atom_form_fact_gpaw(\n",
    "    input_cif_path=path_qcrbox / 'run_tsc_calc' / 'input.cif',\n",
    "    output_tsc_path=path_qcrbox / 'run_tsc_calc' / 'affs.tsc',\n",
    "    functional='PBE',\n",
    "    gridspacing=0.20\n",
    ")\n",
    "\n",
    "# wait for command to finish\n",
    "calc.wait_while_running(1.0)"
   ]
  },
  {
   "cell_type": "markdown",
   "metadata": {},
   "source": [
    "## Running a Hirshfeld Atom Refinement\n",
    "XHARPy can also refine a structure directly. As the XHARPy refinement is slower than that of Olex2 this should probably be seen as an example more than a direct implementation. Functionals are any functionals that GPAW can use. A smaller grid spacing means more grid points *i.e.* a larger basis set in our calculation."
   ]
  },
  {
   "cell_type": "code",
   "execution_count": null,
   "metadata": {},
   "outputs": [],
   "source": [
    "# create a new folder for this example\n",
    "folder_har = path_local / 'run_har'\n",
    "folder_har.mkdir(exist_ok=True)\n",
    "\n",
    "# copy file\n",
    "shutil.copy('./input_files/input.cif', folder_har / 'input.cif')\n",
    "\n",
    "# start command\n",
    "calc2 = xharpy.ha_refine(\n",
    "    input_cif_path=path_qcrbox / 'run_har' / 'input.cif',\n",
    "    output_cif_path=path_qcrbox / 'run_har' / 'output.cif',\n",
    "    functional='PBE',\n",
    "    gridspacing=0.20\n",
    ")\n",
    "\n",
    "# wait for command to finish\n",
    "print(calc2.status)\n",
    "calc2.wait_while_running(1.0)\n",
    "print(calc2.status)"
   ]
  },
  {
   "cell_type": "code",
   "execution_count": null,
   "metadata": {},
   "outputs": [],
   "source": []
  }
 ],
 "metadata": {
  "kernelspec": {
   "display_name": "Python 3",
   "language": "python",
   "name": "python3"
  },
  "language_info": {
   "codemirror_mode": {
    "name": "ipython",
    "version": 3
   },
   "file_extension": ".py",
   "mimetype": "text/x-python",
   "name": "python",
   "nbconvert_exporter": "python",
   "pygments_lexer": "ipython3",
   "version": "3.11.7"
  },
  "orig_nbformat": 4
 },
 "nbformat": 4,
 "nbformat_minor": 2
}
