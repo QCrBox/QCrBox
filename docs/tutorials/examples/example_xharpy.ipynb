{
 "cells": [
  {
   "cell_type": "markdown",
   "metadata": {},
   "source": [
    "# Run functions from XHARPy from QCrBox\n",
    "\n",
    "XHARPy is an external library to calculate atomic from factors from periodic PAW DFT calculations availablable on its own on [Github](https://github.com/Niolon/XHARPy). Two functionalities are currently exposed within QCrBox: calculation of atomic form factors and full HAR refinement.\n",
    "\n",
    "## Import and setting up folders / paths"
   ]
  },
  {
   "cell_type": "code",
   "execution_count": 1,
   "metadata": {},
   "outputs": [],
   "source": [
    "import shutil\n",
    "\n",
    "from qcrbox_wrapper import QCrBoxPathHelper, QCrBoxWrapper"
   ]
  },
  {
   "cell_type": "markdown",
   "metadata": {},
   "source": [
    "We create an example folder to try out this functionality.\n",
    "\n",
    "\n",
    "Using the dotenv package makes things more convenient as we can read the environment variables from the .env.dev file in the QCrBox directory. If you want to run with python core packages only, use the `__init__` method instead by defining the path to the shared directory explicitely in `path_to_shared_dir` and replacing the next four lines with:\n",
    "\n",
    "\n",
    "```python\n",
    "pathhelper = QCrBoxPathHelper(\n",
    "    path_to_shared_dir,\n",
    "    'examples_xharpy'\n",
    ")\n",
    "```"
   ]
  },
  {
   "cell_type": "code",
   "execution_count": 2,
   "metadata": {},
   "outputs": [],
   "source": [
    "pathhelper = QCrBoxPathHelper.from_dotenv(\".env.dev\", \"examples_xharpy\")\n",
    "\n",
    "path_local = pathhelper.local_path\n",
    "path_qcrbox = pathhelper.qcrbox_path"
   ]
  },
  {
   "cell_type": "markdown",
   "metadata": {},
   "source": [
    "## Connecting to QCrBox\n",
    "We can connect to the QCrBox Inventory via python after we have started everything with qcb up. Sometimes the server takes a while so you might need to retry if it initially refuses connection. This should not take more than 30 seconds after your console output says that everything has started."
   ]
  },
  {
   "cell_type": "code",
   "execution_count": 3,
   "metadata": {},
   "outputs": [],
   "source": [
    "qcrbox = QCrBoxWrapper.from_server_addr(\"127.0.0.1\", 11000)"
   ]
  },
  {
   "cell_type": "code",
   "execution_count": 4,
   "metadata": {},
   "outputs": [
    {
     "name": "stdout",
     "output_type": "stream",
     "text": [
      "\u001b[2m2024-08-22T23:07:28.339795Z\u001b[0m [\u001b[32m\u001b[1mdebug    \u001b[0m] \u001b[1mTODO: implement proper construction and validation of gui_url\u001b[0m \u001b[36mextra\u001b[0m=\u001b[35m{}\u001b[0m\n",
      "\u001b[2m2024-08-22T23:07:28.340955Z\u001b[0m [\u001b[32m\u001b[1mdebug    \u001b[0m] \u001b[1mTODO: implement proper construction and validation of gui_url\u001b[0m \u001b[36mextra\u001b[0m=\u001b[35m{}\u001b[0m\n"
     ]
    },
    {
     "data": {
      "text/plain": [
       "{'QCrBoxTools': <QCrBoxTools>, 'XHARPy-GPAW': <XHARPy-GPAW>}"
      ]
     },
     "execution_count": 4,
     "metadata": {},
     "output_type": "execute_result"
    }
   ],
   "source": [
    "qcrbox.application_dict"
   ]
  },
  {
   "cell_type": "code",
   "execution_count": 5,
   "metadata": {},
   "outputs": [
    {
     "name": "stdout",
     "output_type": "stream",
     "text": [
      "\u001b[2m2024-08-22T23:07:28.353833Z\u001b[0m [\u001b[32m\u001b[1mdebug    \u001b[0m] \u001b[1mTODO: implement proper construction and validation of gui_url\u001b[0m \u001b[36mextra\u001b[0m=\u001b[35m{}\u001b[0m\n",
      "\u001b[2m2024-08-22T23:07:28.355692Z\u001b[0m [\u001b[32m\u001b[1mdebug    \u001b[0m] \u001b[1mTODO: implement proper construction and validation of gui_url\u001b[0m \u001b[36mextra\u001b[0m=\u001b[35m{}\u001b[0m\n"
     ]
    }
   ],
   "source": [
    "xharpy = qcrbox.application_dict[\"XHARPy-GPAW\"]"
   ]
  },
  {
   "cell_type": "code",
   "execution_count": 6,
   "metadata": {},
   "outputs": [
    {
     "name": "stdout",
     "output_type": "stream",
     "text": [
      "Help on QCrBoxApplication in module qcrbox_wrapper.qcrbox_application object:\n",
      "\n",
      "class QCrBoxApplication(builtins.object)\n",
      " |  QCrBoxApplication(application_spec: pyqcrbox.sql_models_NEW_v2.application_spec.ApplicationSpecWithCommands, wrapper_parent: 'QCrBoxWrapper') -> None\n",
      " |\n",
      " |  Represents an application in QCrBox packaged in its own container.\n",
      " |\n",
      " |  Methods defined here:\n",
      " |\n",
      " |  __init__(self, application_spec: pyqcrbox.sql_models_NEW_v2.application_spec.ApplicationSpecWithCommands, wrapper_parent: 'QCrBoxWrapper') -> None\n",
      " |      Initializes the QCrBoxApplication instance.\n",
      " |\n",
      " |      Parameters\n",
      " |      ----------\n",
      " |      application_spec: sql_models_NEW_v2.ApplicationSpecWithCommands\n",
      " |          The application spec as returned by the API endpoint `/applications`.\n",
      " |\n",
      " |  __repr__(self) -> str\n",
      " |      Return repr(self).\n",
      " |\n",
      " |  interactive_session(self, **kwargs)\n",
      " |\n",
      " |  ----------------------------------------------------------------------\n",
      " |  Readonly properties defined here:\n",
      " |\n",
      " |  interactive_commands\n",
      " |\n",
      " |  non_interactive_commands\n",
      " |\n",
      " |  ----------------------------------------------------------------------\n",
      " |  Data descriptors defined here:\n",
      " |\n",
      " |  __dict__\n",
      " |      dictionary for instance variables\n",
      " |\n",
      " |  __weakref__\n",
      " |      list of weak references to the object\n",
      "\n"
     ]
    }
   ],
   "source": [
    "help(xharpy)"
   ]
  },
  {
   "cell_type": "markdown",
   "metadata": {},
   "source": [
    "## Calculating aspheric atomic form factors and writing them into a tsc file\n",
    "\n",
    "A `tsc` file is the current standard way of exchanging non-spheric atomic form factors. Here we can calculate the tsc for the atoms within our asymmetric unit for the given crystal structure using GPAW. Functionals are any functionals that GPAW can use. A smaller grid spacing means more grid points *i.e.* a larger basis set in our calculation.\n"
   ]
  },
  {
   "cell_type": "code",
   "execution_count": 7,
   "metadata": {},
   "outputs": [],
   "source": [
    "# create a new folder for this example\n",
    "folder_aff = path_local / \"run_tsc_calc\"\n",
    "folder_aff.mkdir(exist_ok=True)\n",
    "\n",
    "# copy file\n",
    "shutil.copy(\"./input_files/input.cif\", folder_aff / \"input.cif\")\n",
    "\n",
    "# start command\n",
    "calc = xharpy.atom_form_fact_gpaw(\n",
    "    input_cif_path=path_qcrbox / \"run_tsc_calc\" / \"input.cif\",\n",
    "    output_tsc_path=path_qcrbox / \"run_tsc_calc\" / \"affs.tsc\",\n",
    "    functional=\"PBE\",\n",
    "    gridspacing=0.20,\n",
    ")\n",
    "\n",
    "# wait for command to finish\n",
    "calc.wait_while_running(1.0)"
   ]
  },
  {
   "cell_type": "markdown",
   "metadata": {},
   "source": [
    "## Running a Hirshfeld Atom Refinement\n",
    "XHARPy can also refine a structure directly. As the XHARPy refinement is slower than that of Olex2 this should probably be seen as an example more than a direct implementation. Functionals are any functionals that GPAW can use. A smaller grid spacing means more grid points *i.e.* a larger basis set in our calculation."
   ]
  },
  {
   "cell_type": "code",
   "execution_count": 8,
   "metadata": {},
   "outputs": [
    {
     "name": "stdout",
     "output_type": "stream",
     "text": [
      "submitted\n"
     ]
    },
    {
     "ename": "UnsuccessfulCalculationError",
     "evalue": "Calculation with id qcrbox_calc_0x5b0d4e6f94874452a8be598b3715822b does has status 'failed'.\n\nPotential error message:\nNo error message available\n\nCommand stdout:\nRetrieval of STDOUT not implemented yet for PythonCallableCalculation\n\nCommand stderr:\nRetrieval of STDERR not implemented yet for PythonCallableCalculation",
     "output_type": "error",
     "traceback": [
      "\u001b[0;31m---------------------------------------------------------------------------\u001b[0m",
      "\u001b[0;31mUnsuccessfulCalculationError\u001b[0m              Traceback (most recent call last)",
      "Cell \u001b[0;32mIn[8], line 18\u001b[0m\n\u001b[1;32m     16\u001b[0m \u001b[38;5;66;03m# wait for command to finish\u001b[39;00m\n\u001b[1;32m     17\u001b[0m \u001b[38;5;28mprint\u001b[39m(calc2\u001b[38;5;241m.\u001b[39mstatus)\n\u001b[0;32m---> 18\u001b[0m \u001b[43mcalc2\u001b[49m\u001b[38;5;241;43m.\u001b[39;49m\u001b[43mwait_while_running\u001b[49m\u001b[43m(\u001b[49m\u001b[38;5;241;43m1.0\u001b[39;49m\u001b[43m)\u001b[49m\n\u001b[1;32m     19\u001b[0m \u001b[38;5;28mprint\u001b[39m(calc2\u001b[38;5;241m.\u001b[39mstatus)\n",
      "File \u001b[0;32m~/QCrBox/qcrbox_wrapper/qcrbox_wrapper/qcrbox_calculation.py:101\u001b[0m, in \u001b[0;36mQCrBoxCalculation.wait_while_running\u001b[0;34m(self, sleep_time)\u001b[0m\n\u001b[1;32m     99\u001b[0m     time\u001b[38;5;241m.\u001b[39msleep(sleep_time)\n\u001b[1;32m    100\u001b[0m \u001b[38;5;28;01mif\u001b[39;00m \u001b[38;5;28mself\u001b[39m\u001b[38;5;241m.\u001b[39mstatus \u001b[38;5;241m!=\u001b[39m CalculationStatusEnum\u001b[38;5;241m.\u001b[39mSUCCESSFUL:\n\u001b[0;32m--> 101\u001b[0m     \u001b[38;5;28;01mraise\u001b[39;00m UnsuccessfulCalculationError(\u001b[38;5;28mself\u001b[39m\u001b[38;5;241m.\u001b[39mstatus_details)\n",
      "\u001b[0;31mUnsuccessfulCalculationError\u001b[0m: Calculation with id qcrbox_calc_0x5b0d4e6f94874452a8be598b3715822b does has status 'failed'.\n\nPotential error message:\nNo error message available\n\nCommand stdout:\nRetrieval of STDOUT not implemented yet for PythonCallableCalculation\n\nCommand stderr:\nRetrieval of STDERR not implemented yet for PythonCallableCalculation"
     ]
    }
   ],
   "source": [
    "# create a new folder for this example\n",
    "folder_har = path_local / \"run_har\"\n",
    "folder_har.mkdir(exist_ok=True)\n",
    "\n",
    "# copy file\n",
    "shutil.copy(\"./input_files/input.cif\", folder_har / \"input.cif\")\n",
    "\n",
    "# start command\n",
    "calc2 = xharpy.ha_refine(\n",
    "    input_cif_path=path_qcrbox / \"run_har\" / \"input.cif\",\n",
    "    output_cif_path=path_qcrbox / \"run_har\" / \"output.cif\",\n",
    "    functional=\"PBE\",\n",
    "    gridspacing=0.20,\n",
    ")\n",
    "\n",
    "# wait for command to finish\n",
    "print(calc2.status)\n",
    "calc2.wait_while_running(1.0)\n",
    "print(calc2.status)"
   ]
  },
  {
   "cell_type": "code",
   "execution_count": null,
   "metadata": {},
   "outputs": [],
   "source": []
  }
 ],
 "metadata": {
  "kernelspec": {
   "display_name": "Python 3 (ipykernel)",
   "language": "python",
   "name": "python3"
  },
  "language_info": {
   "codemirror_mode": {
    "name": "ipython",
    "version": 3
   },
   "file_extension": ".py",
   "mimetype": "text/x-python",
   "name": "python",
   "nbconvert_exporter": "python",
   "pygments_lexer": "ipython3",
   "version": "3.12.4"
  }
 },
 "nbformat": 4,
 "nbformat_minor": 4
}
