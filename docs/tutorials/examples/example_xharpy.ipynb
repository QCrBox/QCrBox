{
 "cells": [
  {
   "cell_type": "markdown",
   "metadata": {},
   "source": [
    "# Run functions from XHARPy from QCrBox\n",
    "\n",
    "XHARPy is an external library to calculate atomic from factors from periodic PAW DFT calculations availablable on its own on [Github](https://github.com/Niolon/XHARPy). Two functionalities are currently exposed within QCrBox: calculation of atomic form factors and full HAR refinement.\n",
    "\n",
    "The example starts again by using the dotenv package. It makes things more convenient as we can read the environment variables from the .env.dev file in the QCrBox directory. If you want to run with python core packages only, comment out the load_dotenv lines and insert the local and qcrbox pathes manually into the `pathhelper` using the information in your .env.dev file."
   ]
  },
  {
   "cell_type": "code",
   "execution_count": 1,
   "metadata": {},
   "outputs": [],
   "source": [
    "import os\n",
    "import shutil\n",
    "\n",
    "from dotenv import load_dotenv\n",
    "\n",
    "from qcrbox_wrapper import QCrBoxWrapper, QCrBoxPathHelper\n",
    "\n",
    "\n",
    "if not load_dotenv('../.env.dev'):\n",
    "    raise FileNotFoundError(\n",
    "        \".dot.env file could not be loaded. Either adapt the path to your filesystem or \"\n",
    "        + \"input the information loaded from os.environ manually\"\n",
    "    )\n"
   ]
  },
  {
   "cell_type": "markdown",
   "metadata": {},
   "source": [
    "We create an example folder to try out this functionality."
   ]
  },
  {
   "cell_type": "code",
   "execution_count": 2,
   "metadata": {},
   "outputs": [],
   "source": [
    "pathhelper = QCrBoxPathHelper(\n",
    "    os.environ['QCRBOX_SHARED_FILES_DIR_HOST_PATH'],\n",
    "    os.environ['QCRBOX_SHARED_FILES_DIR_CONTAINER_PATH'],\n",
    "    'examples_xharpy'\n",
    ")\n",
    "\n",
    "path_local = pathhelper.local_path\n",
    "path_qcrbox = pathhelper.qcrbox_path"
   ]
  },
  {
   "cell_type": "markdown",
   "metadata": {},
   "source": [
    "## Connecting to QCrBox\n",
    "We can connect to the QCrBox Inventory via python after we have started everything with qcb up. Sometimes the server takes a while so you might need to retry if it initially refuses connection. This should not take more than 30 seconds after your console output says that everything has started."
   ]
  },
  {
   "cell_type": "code",
   "execution_count": 3,
   "metadata": {},
   "outputs": [],
   "source": [
    "qcrbox = QCrBoxWrapper('127.0.0.1', 11000)"
   ]
  },
  {
   "cell_type": "code",
   "execution_count": 4,
   "metadata": {},
   "outputs": [
    {
     "data": {
      "text/plain": [
       "{'XHARPy-GPAW': XHARPy-GPAW()}"
      ]
     },
     "execution_count": 4,
     "metadata": {},
     "output_type": "execute_result"
    }
   ],
   "source": [
    "qcrbox.application_dict"
   ]
  },
  {
   "cell_type": "code",
   "execution_count": 5,
   "metadata": {},
   "outputs": [],
   "source": [
    "xharpy = qcrbox.application_dict['XHARPy-GPAW']"
   ]
  },
  {
   "cell_type": "code",
   "execution_count": 6,
   "metadata": {},
   "outputs": [
    {
     "name": "stdout",
     "output_type": "stream",
     "text": [
      "Help on QCrBoxApplication in module qcrbox_wrapper:\n",
      "\n",
      "XHARPy-GPAW()\n",
      "    Represents the XHARPy-GPAW application (v. 0.2.0) in QCrBox\n",
      "    \n",
      "    Methods:\n",
      "        atom_form_fact_gpaw(\n",
      "            input_cif_path: str,\n",
      "            output_tsc_path: str,\n",
      "            functional: str,\n",
      "            gridspacing: str\n",
      "        )\n",
      "    \n",
      "        ha_refine(\n",
      "            input_cif_path: str,\n",
      "            output_cif_path: str,\n",
      "            functional: str,\n",
      "            gridspacing: str\n",
      "        )\n",
      "\n"
     ]
    }
   ],
   "source": [
    "help(xharpy)"
   ]
  },
  {
   "cell_type": "markdown",
   "metadata": {},
   "source": [
    "## Calculating aspheric atomic form factors and writing them into a tsc file\n",
    "\n",
    "A `tsc` file is the current standard way of exchanging non-spheric atomic form factors. Here we can calculate the tsc for the atoms within our asymmetric unit for the given crystal structure using GPAW. Functionals are any functionals that GPAW can use. A smaller grid spacing means more grid points *i.e.* a larger basis set in our calculation.\n"
   ]
  },
  {
   "cell_type": "code",
   "execution_count": 7,
   "metadata": {},
   "outputs": [],
   "source": [
    "# create a new folder for this example\n",
    "folder_aff = path_local / 'run_tsc_calc'\n",
    "folder_aff.mkdir(exist_ok=True)\n",
    "\n",
    "# copy file\n",
    "shutil.copy('./input_files/input.cif', folder_aff / 'input.cif')\n",
    "\n",
    "# start command\n",
    "calc = xharpy.atom_form_fact_gpaw(\n",
    "    input_cif_path=path_qcrbox / 'run_tsc_calc' / 'input.cif',\n",
    "    output_tsc_path=path_qcrbox / 'run_tsc_calc' / 'affs.tsc',\n",
    "    functional='PBE',\n",
    "    gridspacing=0.20\n",
    ")\n",
    "\n",
    "# wait for command to finish\n",
    "calc.wait_while_running(1.0)"
   ]
  },
  {
   "cell_type": "markdown",
   "metadata": {},
   "source": [
    "## Running a Hirshfeld Atom Refinement\n",
    "XHARPy can also refine a structure directly. As the XHARPy refinement is slower than that of Olex2 this should probably be seen as an example more than a direct implementation. Functionals are any functionals that GPAW can use. A smaller grid spacing means more grid points *i.e.* a larger basis set in our calculation."
   ]
  },
  {
   "cell_type": "code",
   "execution_count": 8,
   "metadata": {},
   "outputs": [
    {
     "name": "stdout",
     "output_type": "stream",
     "text": [
      "{'response_to': 'invoke_command', 'status': 'error', 'msg': None, 'payload': {'msg_execute_calculation': {'action': 'execute_calculation', 'payload': {'command_id': 2, 'calculation_id': 2, 'arguments': {'input_cif_path': '/mnt/qcrbox/shared_files/examples_xharpy/run_har/input.cif', 'output_cif_path': '/mnt/qcrbox/shared_files/examples_xharpy/run_har/output.cif', 'functional': 'PBE', 'gridspacing': '0.2'}, 'container_qcrbox_id': 'qcrbox_container_0x33039282569244f2aca022ca50206ced'}}, 'routing_key': 'qcrbox_rk_0x3120bbd76e0c478991e965a71890316d'}}\n"
     ]
    },
    {
     "ename": "ConnectionError",
     "evalue": "Command not successfully send",
     "output_type": "error",
     "traceback": [
      "\u001b[1;31m---------------------------------------------------------------------------\u001b[0m",
      "\u001b[1;31mConnectionError\u001b[0m                           Traceback (most recent call last)",
      "Cell \u001b[1;32mIn[8], line 9\u001b[0m\n\u001b[0;32m      6\u001b[0m shutil\u001b[38;5;241m.\u001b[39mcopy(\u001b[38;5;124m'\u001b[39m\u001b[38;5;124m./input_files/input.cif\u001b[39m\u001b[38;5;124m'\u001b[39m, folder_har \u001b[38;5;241m/\u001b[39m \u001b[38;5;124m'\u001b[39m\u001b[38;5;124minput.cif\u001b[39m\u001b[38;5;124m'\u001b[39m)\n\u001b[0;32m      8\u001b[0m \u001b[38;5;66;03m# start command\u001b[39;00m\n\u001b[1;32m----> 9\u001b[0m calc2 \u001b[38;5;241m=\u001b[39m \u001b[43mxharpy\u001b[49m\u001b[38;5;241;43m.\u001b[39;49m\u001b[43mha_refine\u001b[49m\u001b[43m(\u001b[49m\n\u001b[0;32m     10\u001b[0m \u001b[43m    \u001b[49m\u001b[43minput_cif_path\u001b[49m\u001b[38;5;241;43m=\u001b[39;49m\u001b[43mpath_qcrbox\u001b[49m\u001b[43m \u001b[49m\u001b[38;5;241;43m/\u001b[39;49m\u001b[43m \u001b[49m\u001b[38;5;124;43m'\u001b[39;49m\u001b[38;5;124;43mrun_har\u001b[39;49m\u001b[38;5;124;43m'\u001b[39;49m\u001b[43m \u001b[49m\u001b[38;5;241;43m/\u001b[39;49m\u001b[43m \u001b[49m\u001b[38;5;124;43m'\u001b[39;49m\u001b[38;5;124;43minput.cif\u001b[39;49m\u001b[38;5;124;43m'\u001b[39;49m\u001b[43m,\u001b[49m\n\u001b[0;32m     11\u001b[0m \u001b[43m    \u001b[49m\u001b[43moutput_cif_path\u001b[49m\u001b[38;5;241;43m=\u001b[39;49m\u001b[43mpath_qcrbox\u001b[49m\u001b[43m \u001b[49m\u001b[38;5;241;43m/\u001b[39;49m\u001b[43m \u001b[49m\u001b[38;5;124;43m'\u001b[39;49m\u001b[38;5;124;43mrun_har\u001b[39;49m\u001b[38;5;124;43m'\u001b[39;49m\u001b[43m \u001b[49m\u001b[38;5;241;43m/\u001b[39;49m\u001b[43m \u001b[49m\u001b[38;5;124;43m'\u001b[39;49m\u001b[38;5;124;43moutput.cif\u001b[39;49m\u001b[38;5;124;43m'\u001b[39;49m\u001b[43m,\u001b[49m\n\u001b[0;32m     12\u001b[0m \u001b[43m    \u001b[49m\u001b[43mfunctional\u001b[49m\u001b[38;5;241;43m=\u001b[39;49m\u001b[38;5;124;43m'\u001b[39;49m\u001b[38;5;124;43mPBE\u001b[39;49m\u001b[38;5;124;43m'\u001b[39;49m\u001b[43m,\u001b[49m\n\u001b[0;32m     13\u001b[0m \u001b[43m    \u001b[49m\u001b[43mgridspacing\u001b[49m\u001b[38;5;241;43m=\u001b[39;49m\u001b[38;5;241;43m0.20\u001b[39;49m\n\u001b[0;32m     14\u001b[0m \u001b[43m)\u001b[49m\n\u001b[0;32m     16\u001b[0m \u001b[38;5;66;03m# wait for command to finish\u001b[39;00m\n\u001b[0;32m     17\u001b[0m \u001b[38;5;28mprint\u001b[39m(calc2\u001b[38;5;241m.\u001b[39mstatus)\n",
      "File \u001b[1;32md:\\QcrBox\\QCrBox\\wrapper\\qcrbox_wrapper.py:536\u001b[0m, in \u001b[0;36mQCrBoxCommand.__call__\u001b[1;34m(self, *args, **kwargs)\u001b[0m\n\u001b[0;32m    534\u001b[0m \u001b[38;5;28;01mif\u001b[39;00m \u001b[38;5;129;01mnot\u001b[39;00m answer[\u001b[38;5;124m\"\u001b[39m\u001b[38;5;124mstatus\u001b[39m\u001b[38;5;124m\"\u001b[39m] \u001b[38;5;241m==\u001b[39m \u001b[38;5;124m\"\u001b[39m\u001b[38;5;124msuccess\u001b[39m\u001b[38;5;124m\"\u001b[39m:\n\u001b[0;32m    535\u001b[0m     \u001b[38;5;28mprint\u001b[39m(answer)\n\u001b[1;32m--> 536\u001b[0m     \u001b[38;5;28;01mraise\u001b[39;00m \u001b[38;5;167;01mConnectionError\u001b[39;00m(\u001b[38;5;124m\"\u001b[39m\u001b[38;5;124mCommand not successfully send\u001b[39m\u001b[38;5;124m\"\u001b[39m)\n\u001b[0;32m    538\u001b[0m \u001b[38;5;28;01mif\u001b[39;00m \u001b[38;5;28mself\u001b[39m\u001b[38;5;241m.\u001b[39mgui_url \u001b[38;5;129;01mis\u001b[39;00m \u001b[38;5;129;01mnot\u001b[39;00m \u001b[38;5;28;01mNone\u001b[39;00m:\n\u001b[0;32m    539\u001b[0m     webbrowser\u001b[38;5;241m.\u001b[39mopen(\u001b[38;5;28mself\u001b[39m\u001b[38;5;241m.\u001b[39mgui_url)\n",
      "\u001b[1;31mConnectionError\u001b[0m: Command not successfully send"
     ]
    }
   ],
   "source": [
    "# create a new folder for this example\n",
    "folder_har = path_local / 'run_har'\n",
    "folder_har.mkdir(exist_ok=True)\n",
    "\n",
    "# copy file\n",
    "shutil.copy('./input_files/input.cif', folder_har / 'input.cif')\n",
    "\n",
    "# start command\n",
    "calc2 = xharpy.ha_refine(\n",
    "    input_cif_path=path_qcrbox / 'run_har' / 'input.cif',\n",
    "    output_cif_path=path_qcrbox / 'run_har' / 'output.cif',\n",
    "    functional='PBE',\n",
    "    gridspacing=0.20\n",
    ")\n",
    "\n",
    "# wait for command to finish\n",
    "print(calc2.status)\n",
    "calc2.wait_while_running(1.0)\n",
    "print(calc2.status)"
   ]
  },
  {
   "cell_type": "code",
   "execution_count": null,
   "metadata": {},
   "outputs": [],
   "source": []
  }
 ],
 "metadata": {
  "kernelspec": {
   "display_name": "Python 3",
   "language": "python",
   "name": "python3"
  },
  "language_info": {
   "codemirror_mode": {
    "name": "ipython",
    "version": 3
   },
   "file_extension": ".py",
   "mimetype": "text/x-python",
   "name": "python",
   "nbconvert_exporter": "python",
   "pygments_lexer": "ipython3",
   "version": "3.11.7"
  },
  "orig_nbformat": 4
 },
 "nbformat": 4,
 "nbformat_minor": 2
}
