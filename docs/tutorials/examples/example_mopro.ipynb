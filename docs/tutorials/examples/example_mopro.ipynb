{
 "cells": [
  {
   "cell_type": "markdown",
   "metadata": {},
   "source": [
    "# Run MoPro from QCrBox\n",
    "\n",
    "## Import and setting up folders / paths"
   ]
  },
  {
   "cell_type": "code",
   "execution_count": 1,
   "metadata": {},
   "outputs": [],
   "source": [
    "import shutil\n",
    "\n",
    "from qcrbox_wrapper import QCrBoxPathHelper, QCrBoxWrapper"
   ]
  },
  {
   "cell_type": "markdown",
   "metadata": {},
   "source": [
    "We create a path to run our MoPro example and get our paths from our own computer's filesystem and the internal filesystem of the QCrBox containers.\n",
    "\n",
    "Using the dotenv package makes things more convenient as we can read the environment variables from the .env.dev file in the QCrBox directory. If you want to run with python core packages only, use the `__init__` method instead by defining the path to the shared directory explicitely in `path_to_shared_dir` and replacing the next four lines with:\n",
    "\n",
    "```python\n",
    "pathhelper = QCrBoxPathHelper(\n",
    "    path_to_shared_dir,\n",
    "    'examples_crystal_explorer'\n",
    ")\n",
    "```"
   ]
  },
  {
   "cell_type": "code",
   "execution_count": 2,
   "metadata": {},
   "outputs": [],
   "source": [
    "pathhelper = QCrBoxPathHelper.from_dotenv(\".env.dev\", \"examples_mopro\")\n",
    "\n",
    "path_local = pathhelper.local_path\n",
    "path_qcrbox = pathhelper.qcrbox_path"
   ]
  },
  {
   "cell_type": "markdown",
   "metadata": {},
   "source": [
    "## Connecting to QCrBox\n",
    "\n",
    "We can connect to the QCrBox Inventory via python after we have started everything with `qcb up`. Sometimes the server takes a while so you might need to retry if it initially refuses connection. This should not take more than 30 seconds after your console output says that everything has started."
   ]
  },
  {
   "cell_type": "code",
   "execution_count": 3,
   "metadata": {},
   "outputs": [],
   "source": [
    "qcrbox = QCrBoxWrapper.from_server_addr(\"127.0.0.1\", 11000)"
   ]
  },
  {
   "cell_type": "markdown",
   "metadata": {},
   "source": [
    "We should see `Crystalexplorer in our application_dict and should put it into a variable."
   ]
  },
  {
   "cell_type": "code",
   "execution_count": null,
   "metadata": {},
   "outputs": [],
   "source": [
    "qcrbox.application_dict"
   ]
  },
  {
   "cell_type": "code",
   "execution_count": null,
   "metadata": {},
   "outputs": [],
   "source": [
    "mopro = qcrbox.application_dict[\"MoProSuite\"]"
   ]
  },
  {
   "cell_type": "markdown",
   "metadata": {},
   "source": [
    "## Running the MoPro GUI in QCrBox\n",
    "\n",
    "We can now access the GUI of MoPro within the container. To run the command needs a unified cif, which is then internally converted into the format CrystalExplorer needs. For more read the Olex2 Example Notebook (TODO Write and link a more complete explanation in docs). \n",
    "\n",
    "Once we run the `interactive` command, two things happen: Firstly, a new browser window with the GUI opens up. Secondly, you should see an input prompt in your execution engine for this notebook. (In Jupyter this should be at the end of the cell, in VSCode it is at the top). By pressing enter within this prompt we tell QCrBox that we are done. There is no back conversion, as we do not expect MoPro to modify the cif file. Note that this input prompt is a stopgap for an actual UI, so this feels a bit clunky at the moment."
   ]
  },
  {
   "cell_type": "code",
   "execution_count": null,
   "metadata": {},
   "outputs": [],
   "source": [
    "interact_local_folder, interact_qcrbox_folder = pathhelper.path_to_pair('interactive')\n",
    "interact_local_folder.mkdir(exist_ok=True, parents=True)\n",
    "\n",
    "shutil.copy('./input_files/input.cif', interact_local_folder / 'input.cif')"
   ]
  },
  {
   "cell_type": "code",
   "execution_count": null,
   "metadata": {},
   "outputs": [],
   "source": [
    "session = mopro.interactive_session(\n",
    "    input_cif_path=interact_qcrbox_folder / 'input.cif',\n",
    "    output_cif_path=interact_qcrbox_folder / 'output.cif',\n",
    "    table_type='XD',\n",
    "    wavefunction_type='Su Coppens'\n",
    ")\n",
    "session.start()"
   ]
  },
  {
   "cell_type": "code",
   "execution_count": null,
   "metadata": {},
   "outputs": [],
   "source": [
    "session.close()"
   ]
  },
  {
   "cell_type": "code",
   "execution_count": 7,
   "metadata": {},
   "outputs": [],
   "source": [
    "run_inp_local_folder, run_inp_qcrbox_folder = pathhelper.path_to_pair('run_inp_file')\n",
    "run_inp_local_folder.mkdir(exist_ok=True)"
   ]
  },
  {
   "cell_type": "code",
   "execution_count": 8,
   "metadata": {},
   "outputs": [],
   "source": [
    "shutil.copy('./input_files/input.cif', run_inp_local_folder / 'input.cif')\n",
    "\n",
    "calc = mopro.run_inp_file(\n",
    "    input_cif_path=run_inp_qcrbox_folder / 'input.cif',\n",
    "    output_cif_path=run_inp_qcrbox_folder / 'output.cif',\n",
    "    inp_file_path= interact_qcrbox_folder / 'mopro_guide.inp', # notice that we use the inp file from the interactive calculation\n",
    "    constraint_file_path=None,\n",
    "    restraint_file_path=None,\n",
    "    table_type='XD',\n",
    "    wavefunction_type='Su Coppens'\n",
    ")"
   ]
  },
  {
   "cell_type": "code",
   "execution_count": null,
   "metadata": {},
   "outputs": [],
   "source": [
    "calc.wait_while_running(1.0)"
   ]
  },
  {
   "cell_type": "code",
   "execution_count": null,
   "metadata": {},
   "outputs": [],
   "source": []
  },
  {
   "cell_type": "code",
   "execution_count": null,
   "metadata": {},
   "outputs": [],
   "source": []
  }
 ],
 "metadata": {
  "kernelspec": {
   "display_name": "Python 3 (ipykernel)",
   "language": "python",
   "name": "python3"
  },
  "language_info": {
   "codemirror_mode": {
    "name": "ipython",
    "version": 3
   },
   "file_extension": ".py",
   "mimetype": "text/x-python",
   "name": "python",
   "nbconvert_exporter": "python",
   "pygments_lexer": "ipython3",
   "version": "3.12.4"
  }
 },
 "nbformat": 4,
 "nbformat_minor": 4
}
