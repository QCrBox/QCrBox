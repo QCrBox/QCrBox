{
 "cells": [
  {
   "cell_type": "markdown",
   "metadata": {},
   "source": [
    "## Refining against the result from an interactive run with new data."
   ]
  },
  {
   "cell_type": "code",
   "execution_count": null,
   "metadata": {},
   "outputs": [],
   "source": [
    "params_pathhelper = QCrBoxPathHelper(\n",
    "    local_path='D:/QCrBox/QCrBox/shared_files',\n",
    "    base_dir='params_olex2'\n",
    ")\n",
    "\n",
    "params_path_local = params_pathhelper.local_path\n",
    "params_path_container = params_pathhelper.qcrbox_path\n",
    "\n",
    "params_path_local.mkdir(exist_ok=True)"
   ]
  },
  {
   "cell_type": "code",
   "execution_count": null,
   "metadata": {},
   "outputs": [],
   "source": [
    "calc = olex2.toparams__interactive(\n",
    "    work_folder = '/mnt/qcrbox/shared_files/work_olex2',\n",
    "    par_json= params_path_container / 'parameters.json',\n",
    "    par_folder=params_path_container\n",
    ")\n",
    "calc.wait_while_running(1.0)"
   ]
  },
  {
   "cell_type": "code",
   "execution_count": null,
   "metadata": {},
   "outputs": [],
   "source": [
    "calc.status"
   ]
  },
  {
   "cell_type": "code",
   "execution_count": null,
   "metadata": {},
   "outputs": [],
   "source": [
    "redo_pathhelper = QCrBoxPathHelper(\n",
    "    local_path='D:/QCrBox/QCrBox/shared_files',\n",
    "    base_dir='redo_olex2'\n",
    ")\n",
    "\n",
    "redo_path_local = redo_pathhelper.local_path\n",
    "redo_path_container = redo_pathhelper.qcrbox_path\n",
    "\n",
    "redo_path_local.mkdir(exist_ok=True)\n"
   ]
  },
  {
   "cell_type": "code",
   "execution_count": null,
   "metadata": {},
   "outputs": [],
   "source": [
    "\n",
    "calc = olex2.redo__interactive(\n",
    "    input_cif=redo_path_container / 'input.cif',\n",
    "    work_folder=redo_path_container,\n",
    "    par_json=params_path_container / 'parameters.json',\n",
    "    par_folder=params_path_container\n",
    ")"
   ]
  },
  {
   "cell_type": "code",
   "execution_count": null,
   "metadata": {},
   "outputs": [],
   "source": [
    "calc.wait_while_running(1.0)"
   ]
  },
  {
   "cell_type": "code",
   "execution_count": null,
   "metadata": {},
   "outputs": [],
   "source": [
    "calc.status"
   ]
  },
  {
   "cell_type": "code",
   "execution_count": null,
   "metadata": {},
   "outputs": [],
   "source": []
  }
 ],
 "metadata": {
  "kernelspec": {
   "display_name": "Python 3",
   "language": "python",
   "name": "python3"
  },
  "language_info": {
   "codemirror_mode": {
    "name": "ipython",
    "version": 3
   },
   "file_extension": ".py",
   "mimetype": "text/x-python",
   "name": "python",
   "nbconvert_exporter": "python",
   "pygments_lexer": "ipython3",
   "version": "3.11.7"
  },
  "orig_nbformat": 4
 },
 "nbformat": 4,
 "nbformat_minor": 2
}
