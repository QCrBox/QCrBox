{
 "cells": [
  {
   "cell_type": "markdown",
   "metadata": {},
   "source": [
    "# Run Crystal Explorer from QCrBox\n",
    "\n",
    "## Import and setting up folders / paths"
   ]
  },
  {
   "cell_type": "code",
   "execution_count": 1,
   "metadata": {},
   "outputs": [],
   "source": [
    "import shutil\n",
    "\n",
    "from qcrbox_wrapper import QCrBoxWrapper, QCrBoxPathHelper"
   ]
  },
  {
   "cell_type": "markdown",
   "metadata": {},
   "source": [
    "We create a path to run our Crystal Explorer example and get our paths from our own computer's filesystem and the internal filesystem of the QCrBox containers.\n",
    "\n",
    "Using the dotenv package makes things more convenient as we can read the environment variables from the .env.dev file in the QCrBox directory. If you want to run with python core packages only, use the `__init__` method instead by defining the path to the shared directory explicitely in `path_to_shared_dir` and replacing the next four lines with:\n",
    "\n",
    "```python\n",
    "pathhelper = QCrBoxPathHelper(\n",
    "    path_to_shared_dir,\n",
    "    'examples_crystal_explorer'\n",
    ")\n",
    "```"
   ]
  },
  {
   "cell_type": "code",
   "execution_count": 2,
   "metadata": {},
   "outputs": [],
   "source": [
    "pathhelper = QCrBoxPathHelper.from_dotenv(\n",
    "    '.env.dev',\n",
    "    'examples_crystal_explorer'\n",
    ")\n",
    "\n",
    "path_local = pathhelper.local_path\n",
    "path_qcrbox = pathhelper.qcrbox_path"
   ]
  },
  {
   "cell_type": "markdown",
   "metadata": {},
   "source": [
    "## Connecting to QCrBox\n",
    "\n",
    "We can connect to the QCrBox Inventory via python after we have started everything with `qcb up`. Sometimes the server takes a while so you might need to retry if it initially refuses connection. This should not take more than 30 seconds after your console output says that everything has started."
   ]
  },
  {
   "cell_type": "code",
   "execution_count": 3,
   "metadata": {},
   "outputs": [],
   "source": [
    "qcrbox = QCrBoxWrapper.from_server_addr('127.0.0.1', 11000)"
   ]
  },
  {
   "cell_type": "markdown",
   "metadata": {},
   "source": [
    "We should see `Crystalexplorer in our application_dict and should put it into a variable."
   ]
  },
  {
   "cell_type": "code",
   "execution_count": 4,
   "metadata": {},
   "outputs": [
    {
     "name": "stdout",
     "output_type": "stream",
     "text": [
      "\u001b[2m2024-08-22T15:59:01.031311Z\u001b[0m [\u001b[32m\u001b[1mdebug    \u001b[0m] \u001b[1mTODO: implement proper construction and validation of gui_url\u001b[0m \u001b[36mextra\u001b[0m=\u001b[35m{}\u001b[0m\n"
     ]
    },
    {
     "data": {
      "text/plain": [
       "{'Crystal Explorer': <Crystal Explorer>}"
      ]
     },
     "execution_count": 4,
     "metadata": {},
     "output_type": "execute_result"
    }
   ],
   "source": [
    "qcrbox.application_dict\n"
   ]
  },
  {
   "cell_type": "code",
   "execution_count": 5,
   "metadata": {},
   "outputs": [
    {
     "name": "stdout",
     "output_type": "stream",
     "text": [
      "\u001b[2m2024-08-22T15:59:01.042672Z\u001b[0m [\u001b[32m\u001b[1mdebug    \u001b[0m] \u001b[1mTODO: implement proper construction and validation of gui_url\u001b[0m \u001b[36mextra\u001b[0m=\u001b[35m{}\u001b[0m\n"
     ]
    }
   ],
   "source": [
    "crystal_explorer = qcrbox.application_dict['Crystal Explorer']\n"
   ]
  },
  {
   "cell_type": "markdown",
   "metadata": {},
   "source": [
    "## Running the Crystal Explorer GUI in QCrBox\n",
    "\n",
    "We can now access the GUI of Crystal Explorer within the container. To run the command needs a unified cif, which is then internally converted into the format CrystalExplorer needs. For more read the Olex2 Example Notebook (TODO Write and link a more complete explanation in docs). \n",
    "\n",
    "Once we run the `interactive` command, two things happen: Firstly, a new browser window with the GUI opens up. Secondly, you should see an input prompt in your execution engine for this notebook. (In Jupyter this should be at the end of the cell, in VSCode it is at the top). By pressing enter within this prompt we tell QCrBox that we are done. There is no back conversion, as we do not expect Crystal Explorer to modify the cif file. Note that this input prompt is a stopgap for an actual UI, so this feels a bit clunky at the moment."
   ]
  },
  {
   "cell_type": "code",
   "execution_count": 6,
   "metadata": {},
   "outputs": [
    {
     "name": "stdout",
     "output_type": "stream",
     "text": [
      "\u001b[2m2024-08-22T15:59:01.057087Z\u001b[0m [\u001b[32m\u001b[1mdebug    \u001b[0m] \u001b[1mStarting interactive session for 'crystal-explorer'\u001b[0m \u001b[36mextra\u001b[0m=\u001b[35m{}\u001b[0m\n",
      "\u001b[2m2024-08-22T15:59:01.437163Z\u001b[0m [\u001b[32m\u001b[1mdebug    \u001b[0m] \u001b[1mself.prepare_calculation=<QCrBoxCalculation: 'qcrbox_calc_0xdb65c158a74949c68d6e3c54e9cbc53c'>\u001b[0m \u001b[36mextra\u001b[0m=\u001b[35m{}\u001b[0m\n",
      "\u001b[2m2024-08-22T15:59:01.455151Z\u001b[0m [\u001b[32m\u001b[1mdebug    \u001b[0m] \u001b[1mself.run_calculation=<QCrBoxCalculation: 'qcrbox_calc_0x65cb57f16a0641089305f83724e3ac37'>\u001b[0m \u001b[36mextra\u001b[0m=\u001b[35m{}\u001b[0m\n"
     ]
    },
    {
     "name": "stderr",
     "output_type": "stream",
     "text": [
      "gio: http://127.0.0.1/gui/crystal-explorer: Operation not supported\n"
     ]
    }
   ],
   "source": [
    "shutil.copy('./input_files/input.cif', path_local / 'input.cif')\n",
    "\n",
    "session = crystal_explorer.interactive_session(\n",
    "    input_cif_path=path_qcrbox / 'input.cif',\n",
    "    work_cif_path=path_qcrbox / 'work.cif',\n",
    ")\n",
    "session.start()"
   ]
  },
  {
   "cell_type": "code",
   "execution_count": null,
   "metadata": {},
   "outputs": [],
   "source": []
  }
 ],
 "metadata": {
  "kernelspec": {
   "display_name": "Python 3 (ipykernel)",
   "language": "python",
   "name": "python3"
  },
  "language_info": {
   "codemirror_mode": {
    "name": "ipython",
    "version": 3
   },
   "file_extension": ".py",
   "mimetype": "text/x-python",
   "name": "python",
   "nbconvert_exporter": "python",
   "pygments_lexer": "ipython3",
   "version": "3.12.4"
  }
 },
 "nbformat": 4,
 "nbformat_minor": 4
}
