{
 "cells": [
  {
   "cell_type": "markdown",
   "metadata": {},
   "source": [
    "# Run Crystal Explorer from QCrBox\n",
    "\n",
    "## Prerequisites\n",
    "This notebook uses the `qcrbox_wrapper` package. Make sure you have run\n",
    "\n",
    "```bash\n",
    "pip install -e ./qcrbox_wrapper[env-file]\n",
    "```\n",
    "\n",
    "from the QCrBox base directory in whatever python environment you are using to run this notebook.\n",
    "\n",
    "## Import and setting up folders / paths"
   ]
  },
  {
   "cell_type": "code",
   "execution_count": null,
   "metadata": {},
   "outputs": [],
   "source": [
    "import shutil\n",
    "\n",
    "from qcrbox_wrapper import QCrBoxWrapper, QCrBoxPathHelper"
   ]
  },
  {
   "cell_type": "markdown",
   "metadata": {},
   "source": [
    "We create a path to run our Crystal Explorer example and get our paths from our own computer's filesystem and the internal filesystem of the QCrBox containers.\n",
    "\n",
    "Using the dotenv package makes things more convenient as we can read the environment variables from the .env.dev file in the QCrBox directory. If you want to run with python core packages only, use the `__init__` method instead by defining the path to the shared directory explicitely in `path_to_shared_dir` and replacing the next four lines with:\n",
    "\n",
    "```python\n",
    "pathhelper = QCrBoxPathHelper(\n",
    "    path_to_shared_dir,\n",
    "    'examples_crystal_explorer'\n",
    ")\n",
    "```"
   ]
  },
  {
   "cell_type": "code",
   "execution_count": null,
   "metadata": {},
   "outputs": [],
   "source": [
    "pathhelper = QCrBoxPathHelper.from_dotenv(\n",
    "    '.env.dev',\n",
    "    'examples_crystal_explorer'\n",
    ")\n",
    "\n",
    "path_local = pathhelper.local_path\n",
    "path_qcrbox = pathhelper.qcrbox_path"
   ]
  },
  {
   "cell_type": "markdown",
   "metadata": {},
   "source": [
    "## Connecting to QCrBox\n",
    "\n",
    "We can connect to the QCrBox Inventory via python after we have started everything with `qcb up`. Sometimes the server takes a while so you might need to retry if it initially refuses connection. This should not take more than 30 seconds after your console output says that everything has started."
   ]
  },
  {
   "cell_type": "code",
   "execution_count": null,
   "metadata": {},
   "outputs": [],
   "source": [
    "qcrbox = QCrBoxWrapper('127.0.0.1', 11000)"
   ]
  },
  {
   "cell_type": "markdown",
   "metadata": {},
   "source": [
    "We should see `Crystalexplorer in our application_dict and should put it into a variable."
   ]
  },
  {
   "cell_type": "code",
   "execution_count": null,
   "metadata": {},
   "outputs": [],
   "source": [
    "qcrbox.application_dict\n"
   ]
  },
  {
   "cell_type": "code",
   "execution_count": null,
   "metadata": {},
   "outputs": [],
   "source": [
    "crystal_explorer = qcrbox.application_dict['CrystalExplorer']\n"
   ]
  },
  {
   "cell_type": "markdown",
   "metadata": {},
   "source": [
    "## Running the Crystal Explorer GUI in QCrBox\n",
    "\n",
    "We can now access the GUI of Crystal Explorer within the container. To run the command needs a unified cif, which is then internally converted into the format CrystalExplorer needs. For more read the Olex2 Example Notebook (TODO Write and link a more complete explanation in docs). \n",
    "\n",
    "Once we run the `interactive` command, two things happen: Firstly, a new browser window with the GUI opens up. Secondly, you should see an input prompt in your execution engine for this notebook. (In Jupyter this should be at the end of the cell, in VSCode it is at the top). By pressing enter within this prompt we tell QCrBox that we are done. There is no back conversion, as we do not expect Crystal Explorer to modify the cif file. Note that this input prompt is a stopgap for an actual UI, so this feels a bit clunky at the moment."
   ]
  },
  {
   "cell_type": "code",
   "execution_count": null,
   "metadata": {},
   "outputs": [],
   "source": [
    "shutil.copy('./input_files/input.cif', path_local / 'input.cif')\n",
    "\n",
    "calc = crystal_explorer.interactive(\n",
    "    input_cif_path=path_qcrbox / 'input.cif'\n",
    ")\n",
    "calc.status"
   ]
  },
  {
   "cell_type": "code",
   "execution_count": null,
   "metadata": {},
   "outputs": [],
   "source": []
  }
 ],
 "metadata": {
  "kernelspec": {
   "display_name": "venv",
   "language": "python",
   "name": "python3"
  },
  "language_info": {
   "codemirror_mode": {
    "name": "ipython",
    "version": 3
   },
   "file_extension": ".py",
   "mimetype": "text/x-python",
   "name": "python",
   "nbconvert_exporter": "python",
   "pygments_lexer": "ipython3",
   "version": "3.12.2"
  }
 },
 "nbformat": 4,
 "nbformat_minor": 2
}
