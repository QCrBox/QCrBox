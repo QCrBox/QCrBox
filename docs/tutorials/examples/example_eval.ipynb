{
 "cells": [
  {
   "cell_type": "markdown",
   "metadata": {},
   "source": [
    "# Running Eval14/15 in a QCrBox Docker container\n",
    "Eval15 is a program to integrate crystallographic frames and evaluate the intensities of the reflections. The executable must be obtained separately from the [Eval website](http://www.crystal.chem.uu.nl/distr/eval/).\n",
    "\n",
    "## Import and setting up folders / paths\n",
    "\n",
    "We start by downloading some example files."
   ]
  },
  {
   "cell_type": "code",
   "execution_count": 1,
   "metadata": {},
   "outputs": [],
   "source": [
    "import zipfile\n",
    "import urllib.request\n",
    "from pathlib import Path\n",
    "\n",
    "from qcrbox_wrapper import QCrBoxWrapper, QCrBoxPathHelper\n",
    "\n",
    "example_frames = Path('./input_files/Ylid_OD_Images.zip')\n",
    "example_input_files = Path('./input_files/eval_input.zip')\n",
    "\n",
    "for zip_path in (example_frames, example_input_files):\n",
    "    if not zip_path.exists():\n",
    "        url = f'https://github.com/QCrBox/QCrBoxExamples/raw/main/Eval/{zip_path.name}'\n",
    "        urllib.request.urlretrieve(url, zip_path)\n"
   ]
  },
  {
   "cell_type": "markdown",
   "metadata": {},
   "source": [
    "We create an example folder to try out the Eval functionality.\n",
    "\n",
    "Using the dotenv package makes things more convenient as we can read the environment variables from the .env.dev file in the QCrBox directory. If you want to run with python core packages only, use the `__init__` method instead by defining the path to the shared directory explicitely in `path_to_shared_dir` and replacing the next four lines with:\n",
    "\n",
    "```python\n",
    "pathhelper = QCrBoxPathHelper(\n",
    "    path_to_shared_dir,\n",
    "    'examples_eval'\n",
    ")\n",
    "```"
   ]
  },
  {
   "cell_type": "code",
   "execution_count": 2,
   "metadata": {},
   "outputs": [],
   "source": [
    "pathhelper = QCrBoxPathHelper.from_dotenv(\n",
    "    '.env.dev',\n",
    "    'examples_eval'\n",
    ")\n",
    "\n",
    "path_local = pathhelper.local_path\n",
    "path_qcrbox = pathhelper.qcrbox_path\n",
    "\n",
    "frames_zip = './input_files/Ylid_OD_Images.zip'\n"
   ]
  },
  {
   "cell_type": "markdown",
   "metadata": {},
   "source": [
    "## Connecting to QCrBox\n",
    "We can connect to the QCrBox Inventory via python after we have started everything with qcb up. Sometimes the server takes a while so you might need to retry if it initially refuses connection. This should not take more than 30 seconds after your console output says that everything has started."
   ]
  },
  {
   "cell_type": "code",
   "execution_count": 4,
   "metadata": {},
   "outputs": [],
   "source": [
    "qcrbox = QCrBoxWrapper.from_server_addr('127.0.0.1', 11000)"
   ]
  },
  {
   "cell_type": "code",
   "execution_count": 5,
   "metadata": {},
   "outputs": [
    {
     "name": "stdout",
     "output_type": "stream",
     "text": [
      "\u001b[2m2024-08-22T19:48:22.933026Z\u001b[0m [\u001b[32m\u001b[1mdebug    \u001b[0m] \u001b[1mTODO: implement proper construction and validation of gui_url\u001b[0m \u001b[36mextra\u001b[0m=\u001b[35m{}\u001b[0m\n"
     ]
    },
    {
     "data": {
      "text/plain": [
       "{'Eval14/15': <Eval14/15>}"
      ]
     },
     "execution_count": 5,
     "metadata": {},
     "output_type": "execute_result"
    }
   ],
   "source": [
    "qcrbox.application_dict"
   ]
  },
  {
   "cell_type": "markdown",
   "metadata": {},
   "source": [
    "Check that Eval14/15 is available in the application dict you just evaluated and then select it in the next cell."
   ]
  },
  {
   "cell_type": "code",
   "execution_count": 6,
   "metadata": {},
   "outputs": [
    {
     "name": "stdout",
     "output_type": "stream",
     "text": [
      "\u001b[2m2024-08-22T19:48:35.828890Z\u001b[0m [\u001b[32m\u001b[1mdebug    \u001b[0m] \u001b[1mTODO: implement proper construction and validation of gui_url\u001b[0m \u001b[36mextra\u001b[0m=\u001b[35m{}\u001b[0m\n"
     ]
    }
   ],
   "source": [
    "eval1x = qcrbox.application_dict['Eval14/15']\n"
   ]
  },
  {
   "cell_type": "markdown",
   "metadata": {},
   "source": [
    "As always we can get the list of available commands using pythons buildin help function."
   ]
  },
  {
   "cell_type": "code",
   "execution_count": 7,
   "metadata": {},
   "outputs": [
    {
     "name": "stdout",
     "output_type": "stream",
     "text": [
      "Help on QCrBoxApplication in module qcrbox_wrapper.qcrbox_application object:\n",
      "\n",
      "class QCrBoxApplication(builtins.object)\n",
      " |  QCrBoxApplication(application_spec: pyqcrbox.sql_models_NEW_v2.application_spec.ApplicationSpecWithCommands, wrapper_parent: 'QCrBoxWrapper') -> None\n",
      " |\n",
      " |  Represents an application in QCrBox packaged in its own container.\n",
      " |\n",
      " |  Methods defined here:\n",
      " |\n",
      " |  __init__(self, application_spec: pyqcrbox.sql_models_NEW_v2.application_spec.ApplicationSpecWithCommands, wrapper_parent: 'QCrBoxWrapper') -> None\n",
      " |      Initializes the QCrBoxApplication instance.\n",
      " |\n",
      " |      Parameters\n",
      " |      ----------\n",
      " |      application_spec: sql_models_NEW_v2.ApplicationSpecWithCommands\n",
      " |          The application spec as returned by the API endpoint `/applications`.\n",
      " |\n",
      " |  __repr__(self) -> str\n",
      " |      Return repr(self).\n",
      " |\n",
      " |  interactive_session(self, **kwargs)\n",
      " |\n",
      " |  ----------------------------------------------------------------------\n",
      " |  Readonly properties defined here:\n",
      " |\n",
      " |  interactive_commands\n",
      " |\n",
      " |  non_interactive_commands\n",
      " |\n",
      " |  ----------------------------------------------------------------------\n",
      " |  Data descriptors defined here:\n",
      " |\n",
      " |  __dict__\n",
      " |      dictionary for instance variables\n",
      " |\n",
      " |  __weakref__\n",
      " |      list of weak references to the object\n",
      "\n"
     ]
    }
   ],
   "source": [
    "help(eval1x)"
   ]
  },
  {
   "cell_type": "markdown",
   "metadata": {},
   "source": [
    "## Starting an interactive session.\n",
    "Currently the implementation of eval within QCrBox assumes that you first integrate your frames interactively following along [the thaumatin example from the Eval website](http://www.crystal.chem.uu.nl/distr/eval/documentation/ccd/doclib/example/thaumatin/index.html). \n",
    "\n",
    "A set of frames to use as example is included in `input_files/Ylid_OD_Images.zip`. So let us create a new folder and unpack the images to that folder."
   ]
  },
  {
   "cell_type": "code",
   "execution_count": 8,
   "metadata": {},
   "outputs": [],
   "source": [
    "# create a new folder for this example\n",
    "folder_interact = path_local / 'run_interactive'\n",
    "folder_interact.mkdir(exist_ok=True)\n",
    "\n",
    "with zipfile.ZipFile(frames_zip, 'r') as zip_obj:\n",
    "    zip_obj.extractall(folder_interact)"
   ]
  },
  {
   "cell_type": "markdown",
   "metadata": {},
   "source": [
    "Now let us start an interactive session. Once we run the `interactive` command, two things happen: Firstly, a new browser window with the opens up, where a command line interface opens in the folder of your choice. Secondly, you should see an input prompt in your execution engine for this notebook. (In Jupyter this should be at the end of the cell, in VSCode it is at the top). By pressing enter within this prompt we tell QCrBox that we are done following the example. Subsequently QCrBox will try to run a few programs to produce a cif file with the output via Evals output to SADABS' .sad format. There is no cif file at the beginning of an integration. As such there cannot be an `input_cif_path`. Instead we need to pass the folder where we want to work that contains the frames. You can now try to follow along the [the thaumatin example from the Eval website](http://www.crystal.chem.uu.nl/distr/eval/documentation/ccd/doclib/example/thaumatin/index.html) using the Ylid frames.\n",
    "\n",
    "Here are the changes to the example:\n",
    "\n",
    "#### proteinsetup\n",
    "The unit cell of Ylid is about a=5 Ang, b=8 Ang, c=18 Ang, change the maximum volume to 1500 Ang.\n",
    "\n",
    "#### renameimages\n",
    "The images are already renamed so skip\n",
    "\n",
    "#### scancheck\n",
    "You need to run `scandb` first\n",
    "\n",
    "#### view\n",
    "Do not change the detectoroffset from the values in the frames. (But export a detalign.vic). The beamstop settings are \n",
    " - `beamstop 0.0 -1.3`\n",
    " - `beamstopwidth 1.5`\n",
    " - `beamstopdiameter 4`\n",
    " - `beamstopangle 1`\n",
    "\n",
    "Also set `resomax 0.79`, the number of peaks on a frame is 10\n",
    "\n",
    "#### buildsearch / buildsearch=2\n",
    "Be sure to set the maximum resolution and the number of peaks per frame correctly\n",
    "\n",
    "#### buildeval15\n",
    "Use focus type mirror and no polarisation\n",
    "\n",
    "#### shellscript-2\n",
    "Use `eval15all` instead by typing `eval15all` into the commandline\n",
    "\n",
    "#### any\n",
    "You do not need to set the pointgroup with pg\n",
    "\n",
    "#### sadabs and shellscript-3\n",
    "sadabs is not independent of eval and therefore not available within the container."
   ]
  },
  {
   "cell_type": "code",
   "execution_count": 9,
   "metadata": {},
   "outputs": [
    {
     "name": "stdout",
     "output_type": "stream",
     "text": [
      "\u001b[2m2024-08-22T19:49:10.049717Z\u001b[0m [\u001b[32m\u001b[1mdebug    \u001b[0m] \u001b[1mStarting interactive session for 'eval1x'\u001b[0m \u001b[36mextra\u001b[0m=\u001b[35m{}\u001b[0m\n",
      "\u001b[2m2024-08-22T19:49:10.051961Z\u001b[0m [\u001b[32m\u001b[1mdebug    \u001b[0m] \u001b[1mself.prepare_calculation=None \u001b[0m \u001b[36mextra\u001b[0m=\u001b[35m{}\u001b[0m\n",
      "\u001b[2m2024-08-22T19:49:10.079005Z\u001b[0m [\u001b[32m\u001b[1mdebug    \u001b[0m] \u001b[1mself.run_calculation=<QCrBoxCalculation: 'qcrbox_calc_0x491c40c520714bc4ae1817c09c926dbe'>\u001b[0m \u001b[36mextra\u001b[0m=\u001b[35m{}\u001b[0m\n"
     ]
    },
    {
     "name": "stderr",
     "output_type": "stream",
     "text": [
      "gio: http://127.0.0.1/gui/eval1x: Operation not supported\n"
     ]
    }
   ],
   "source": [
    "session = eval1x.interactive_session(\n",
    "    work_folder=path_qcrbox / 'run_interactive',\n",
    "    output_cif_path=path_qcrbox / 'run_interactive' / 'output.cif',\n",
    ")\n",
    "session.start()\n"
   ]
  },
  {
   "cell_type": "code",
   "execution_count": 10,
   "metadata": {},
   "outputs": [
    {
     "name": "stdout",
     "output_type": "stream",
     "text": [
      "\u001b[2m2024-08-22T19:50:18.369932Z\u001b[0m [\u001b[32m\u001b[1mdebug    \u001b[0m] \u001b[1mClosing session               \u001b[0m \u001b[36mextra\u001b[0m=\u001b[35m{}\u001b[0m\n",
      "\u001b[2m2024-08-22T19:50:18.389196Z\u001b[0m [\u001b[32m\u001b[1mdebug    \u001b[0m] \u001b[1mself.finalise_calculation=<QCrBoxCalculation: 'qcrbox_calc_0x7217aae8214f40e7834f7c14ecfd9622'>\u001b[0m \u001b[36mextra\u001b[0m=\u001b[35m{}\u001b[0m\n",
      "\u001b[2m2024-08-22T19:50:18.390543Z\u001b[0m [\u001b[32m\u001b[1mdebug    \u001b[0m] \u001b[1mDone.                         \u001b[0m \u001b[36mextra\u001b[0m=\u001b[35m{}\u001b[0m\n"
     ]
    }
   ],
   "source": [
    "session.close()"
   ]
  },
  {
   "cell_type": "markdown",
   "metadata": {},
   "source": [
    "## Running an integration with slightly changed parameters\n",
    "\n",
    "There is a basic way to run parts the data processing pipeline from the input files of an interactive session. The number of necessary files might be reduced in the future. This allows to reprocess frames that have been subject to Eval15 before. We can pull the necessary files from our interactive session from before to rerun the integration with a different resolution. Alternatively you can use the files in the `./input_files/eval_input.zip`. Let us create a folder again. You can set `use_files_from_zip` to `True` to use these."
   ]
  },
  {
   "cell_type": "code",
   "execution_count": 11,
   "metadata": {},
   "outputs": [],
   "source": [
    "use_files_from_zip = True  # Change to True to use settings files from zip\n",
    "\n",
    "# create a new folder for this example\n",
    "folder_integrate = path_local / 'run_integrate'\n",
    "folder_integrate.mkdir(exist_ok=True)\n",
    "\n",
    "with zipfile.ZipFile(frames_zip, 'r') as zip_obj:\n",
    "    zip_obj.extractall(folder_integrate)\n",
    "\n",
    "if use_files_from_zip:\n",
    "    with zipfile.ZipFile('./input_files/eval_input.zip', 'r') as zip_obj:\n",
    "        zip_obj.extractall(folder_integrate)\n",
    "    source_folder = path_qcrbox / 'run_integrate'\n",
    "else:\n",
    "    source_folder = path_qcrbox / 'run_interactive'"
   ]
  },
  {
   "cell_type": "markdown",
   "metadata": {},
   "source": [
    "We can now start the integration using the output files from either the zip archive or the interactive session. You might notice that we pass a path to a cif file as the `rmat_file_path` if it contains the required entries. An rmat file will work as well. The integration will probably take a bit of time. You can follow the progress within the `ic` folder."
   ]
  },
  {
   "cell_type": "code",
   "execution_count": 12,
   "metadata": {},
   "outputs": [],
   "source": [
    "calc2 = eval1x.integrate(\n",
    "    work_folder=path_qcrbox / 'run_integrate',\n",
    "    output_cif_path=path_qcrbox / 'run_integrate' / 'output.cif',\n",
    "    rmat_file_path=source_folder / 'output.cif',\n",
    "    beamstop_file_path=source_folder / 'beamstop.vic',\n",
    "    detalign_file_path=source_folder / 'detalign.vic',\n",
    "    maximum_res=0.79,\n",
    "    minimum_res=50.0,\n",
    "    box_size=1.2,\n",
    "    box_depth=5,\n",
    "    maximum_duration=5.0,\n",
    "    min_refln_in_box=1000,\n",
    "    pic_dir=source_folder / 'ic'\n",
    ")\n",
    "\n",
    "calc2.wait_while_running(1.0)"
   ]
  },
  {
   "cell_type": "code",
   "execution_count": 13,
   "metadata": {},
   "outputs": [
    {
     "data": {
      "text/plain": [
       "<CalculationStatusEnum.SUCCESSFUL: 'successful'>"
      ]
     },
     "execution_count": 13,
     "metadata": {},
     "output_type": "execute_result"
    }
   ],
   "source": [
    "calc2.status"
   ]
  },
  {
   "cell_type": "code",
   "execution_count": null,
   "metadata": {},
   "outputs": [],
   "source": []
  }
 ],
 "metadata": {
  "kernelspec": {
   "display_name": "Python 3 (ipykernel)",
   "language": "python",
   "name": "python3"
  },
  "language_info": {
   "codemirror_mode": {
    "name": "ipython",
    "version": 3
   },
   "file_extension": ".py",
   "mimetype": "text/x-python",
   "name": "python",
   "nbconvert_exporter": "python",
   "pygments_lexer": "ipython3",
   "version": "3.12.4"
  }
 },
 "nbformat": 4,
 "nbformat_minor": 4
}
