{
 "cells": [
  {
   "cell_type": "code",
   "execution_count": 1,
   "metadata": {},
   "outputs": [],
   "source": [
    "import os\n",
    "import shutil\n",
    "import json\n",
    "\n",
    "from dotenv import load_dotenv\n",
    "\n",
    "from qcrbox_wrapper import QCrBoxWrapper, QCrBoxPathHelper\n",
    "\n",
    "\n",
    "if not load_dotenv('../.env.dev'):\n",
    "    raise FileNotFoundError(\n",
    "        \".dot.env file could not be loaded. Either adapt the path to your filesystem or \"\n",
    "        + \"input the information loaded from os.environ manually\"\n",
    "    )\n"
   ]
  },
  {
   "cell_type": "code",
   "execution_count": 2,
   "metadata": {},
   "outputs": [],
   "source": [
    "pathhelper = QCrBoxPathHelper(\n",
    "    os.environ['QCRBOX_SHARED_FILES_DIR_HOST_PATH'],\n",
    "    os.environ['QCRBOX_SHARED_FILES_DIR_CONTAINER_PATH'],\n",
    "    'cod_test'\n",
    ")"
   ]
  },
  {
   "cell_type": "code",
   "execution_count": 3,
   "metadata": {},
   "outputs": [],
   "source": [
    "path_local = pathhelper.local_path\n",
    "path_qcrbox = pathhelper.qcrbox_path"
   ]
  },
  {
   "cell_type": "code",
   "execution_count": 4,
   "metadata": {},
   "outputs": [],
   "source": [
    "\n",
    "gui_infos = {\n",
    "    'Olex2 (Linux)': {'port': os.environ['QCRBOX_OLEX2_LINUX_PORT'], 'commands': ['interactive']}\n",
    "}\n",
    "\n",
    "qcrbox = QCrBoxWrapper('localhost', 11000, gui_infos)"
   ]
  },
  {
   "cell_type": "code",
   "execution_count": 5,
   "metadata": {},
   "outputs": [
    {
     "data": {
      "text/plain": [
       "{'COD Check': COD Check()}"
      ]
     },
     "execution_count": 5,
     "metadata": {},
     "output_type": "execute_result"
    }
   ],
   "source": [
    "qcrbox.application_dict"
   ]
  },
  {
   "cell_type": "code",
   "execution_count": 6,
   "metadata": {},
   "outputs": [],
   "source": [
    "cod = qcrbox.application_dict['COD Check']"
   ]
  },
  {
   "cell_type": "code",
   "execution_count": 7,
   "metadata": {},
   "outputs": [
    {
     "name": "stdout",
     "output_type": "stream",
     "text": [
      "Help on QCrBoxApplication in module qcrbox_wrapper:\n",
      "\n",
      "COD Check()\n",
      "    Represents the COD Check application (v. 0.0.1) in QCrBox\n",
      "    \n",
      "    Methods:\n",
      "        get_number_fitting_cod_entries(\n",
      "            input_cif_path: str,\n",
      "            cellpar_deviation_perc: str,\n",
      "            listed_elements_only: str\n",
      "        )\n",
      "    \n",
      "        merge_closest_cod_entry(\n",
      "            input_cif_path: str,\n",
      "            cellpar_deviation_perc: str,\n",
      "            listed_elements_only: str\n",
      "        )\n",
      "\n"
     ]
    }
   ],
   "source": [
    "help(cod)"
   ]
  },
  {
   "cell_type": "code",
   "execution_count": 8,
   "metadata": {},
   "outputs": [],
   "source": [
    "folder_test = path_local / 'run_count'\n",
    "folder_test.mkdir(exist_ok=True)\n",
    "\n",
    "shutil.copy('./input_files/input.cif', folder_test / 'input.cif')\n",
    "\n",
    "calc= cod.get_number_fitting_cod_entries(\n",
    "    input_cif_path=path_qcrbox / 'run_count' / 'input.cif',\n",
    "    cellpar_deviation_perc=5.0,\n",
    "    listed_elements_only=True\n",
    ")"
   ]
  },
  {
   "cell_type": "code",
   "execution_count": 9,
   "metadata": {},
   "outputs": [
    {
     "data": {
      "text/plain": [
       "QCrBoxCalculationStatus(calculation_id=1, command_id=1, started_at='2024-03-15T14:47:23.601325', status='completed', status_details={'status': 'completed', 'details': None})"
      ]
     },
     "execution_count": 9,
     "metadata": {},
     "output_type": "execute_result"
    }
   ],
   "source": [
    "calc.status"
   ]
  },
  {
   "cell_type": "code",
   "execution_count": 12,
   "metadata": {},
   "outputs": [],
   "source": [
    "folder_test2 = path_local / 'run_merge'\n",
    "folder_test2.mkdir(exist_ok=True)\n",
    "\n",
    "shutil.copy('./input_files/input.cif', folder_test2 / 'input.cif')\n",
    "\n",
    "calc= cod.merge_closest_cod_entry(\n",
    "    input_cif_path=path_qcrbox / 'run_merge' / 'input.cif',\n",
    "    cellpar_deviation_perc=5.0,\n",
    "    listed_elements_only=True\n",
    ")"
   ]
  },
  {
   "cell_type": "code",
   "execution_count": 13,
   "metadata": {},
   "outputs": [
    {
     "data": {
      "text/plain": [
       "QCrBoxCalculationStatus(calculation_id=3, command_id=2, started_at='2024-03-15T14:48:20.968077', status='completed', status_details={'status': 'completed', 'details': None})"
      ]
     },
     "execution_count": 13,
     "metadata": {},
     "output_type": "execute_result"
    }
   ],
   "source": [
    "calc.status"
   ]
  },
  {
   "cell_type": "code",
   "execution_count": null,
   "metadata": {},
   "outputs": [],
   "source": []
  }
 ],
 "metadata": {
  "kernelspec": {
   "display_name": "venv",
   "language": "python",
   "name": "python3"
  },
  "language_info": {
   "codemirror_mode": {
    "name": "ipython",
    "version": 3
   },
   "file_extension": ".py",
   "mimetype": "text/x-python",
   "name": "python",
   "nbconvert_exporter": "python",
   "pygments_lexer": "ipython3",
   "version": "3.11.7"
  }
 },
 "nbformat": 4,
 "nbformat_minor": 2
}
